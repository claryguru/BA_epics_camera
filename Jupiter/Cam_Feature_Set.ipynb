{
 "cells": [
  {
   "cell_type": "markdown",
   "metadata": {},
   "source": [
    "# Load Cam from Init Datei\n",
    "\n",
    "- test setattr method\n",
    "- test vimba example "
   ]
  },
  {
   "cell_type": "code",
   "execution_count": 1,
   "metadata": {},
   "outputs": [],
   "source": [
    "from vimba import *"
   ]
  },
  {
   "cell_type": "code",
   "execution_count": 24,
   "metadata": {},
   "outputs": [
    {
     "name": "stdout",
     "output_type": "stream",
     "text": [
      "(<vimba.camera.Camera object at 0x000001FC3631D210>,)\n",
      "EnumFeature(name=ExposureAuto, value=Continuous)\n",
      "(<vimba.camera.Camera object at 0x000001FC363BA560>,)\n",
      "EnumFeature(name=ExposureAuto, value=Continuous)\n"
     ]
    }
   ],
   "source": [
    "with Vimba.get_instance() as vimba:\n",
    "            cams = vimba.get_all_cameras()\n",
    "            print(cams)\n",
    "            if len(cams) > 0:\n",
    "                with cams[0] as cam:\n",
    "                    cam.ExposureAuto.set('Off')\n",
    "                    feat = cam.get_feature_by_name('ExposureAuto')\n",
    "                    feat.set('Continuous')\n",
    "                    print(feat)\n",
    "            else:\n",
    "                print(\"no camera detected\")\n",
    "\n",
    "\n",
    "with Vimba.get_instance() as vimba:\n",
    "            cams = vimba.get_all_cameras()\n",
    "            print(cams)\n",
    "            if len(cams) > 0:\n",
    "                with cams[0] as cam:\n",
    "                    feat = cam.get_feature_by_name('ExposureAuto')\n",
    "                    print(feat)                    \n",
    "            else:\n",
    "                print(\"no camera detected\")\n",
    "        \n",
    "        \n"
   ]
  }
 ],
 "metadata": {
  "kernelspec": {
   "display_name": "Python 3.10.0 64-bit",
   "language": "python",
   "name": "python3"
  },
  "language_info": {
   "codemirror_mode": {
    "name": "ipython",
    "version": 3
   },
   "file_extension": ".py",
   "mimetype": "text/x-python",
   "name": "python",
   "nbconvert_exporter": "python",
   "pygments_lexer": "ipython3",
   "version": "3.10.0"
  },
  "orig_nbformat": 4,
  "vscode": {
   "interpreter": {
    "hash": "369f2c481f4da34e4445cda3fffd2e751bd1c4d706f27375911949ba6bb62e1c"
   }
  }
 },
 "nbformat": 4,
 "nbformat_minor": 2
}
