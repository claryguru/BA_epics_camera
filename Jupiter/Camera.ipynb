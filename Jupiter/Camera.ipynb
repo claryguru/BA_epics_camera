{
 "cells": [
  {
   "cell_type": "markdown",
   "metadata": {},
   "source": [
    "## Camera\n",
    "\n",
    "erste version (mit vimba), in der mehrere Bilder ausgelesen und erstmal statt weiterverarbeitet ausgelesen werden "
   ]
  },
  {
   "cell_type": "code",
   "execution_count": 106,
   "metadata": {},
   "outputs": [],
   "source": [
    "#Import\n",
    "from vimba import *\n",
    "import numpy as np\n",
    "from matplotlib import pyplot as plt"
   ]
  },
  {
   "cell_type": "code",
   "execution_count": 107,
   "metadata": {},
   "outputs": [],
   "source": [
    "#save np_array\n",
    "def save_ar (nr, np_array):\n",
    "    filename = './mls13/' + str(nr) + 'test.npy'\n",
    "    with open(filename, 'wb') as f:\n",
    "        np.save(f, np_array)\n",
    "\n",
    "def open_plot (nr):\n",
    "    filename = './mls13/'+ str(nr) + 'test.npy'\n",
    "    with open(filename, 'rb') as f:\n",
    "        ar = np.load(f)\n",
    "    plt.imshow(ar, cmap='tab10')\n",
    "    plt.show()"
   ]
  },
  {
   "cell_type": "markdown",
   "metadata": {},
   "source": [
    "mehrere Bilder aufnehmen"
   ]
  },
  {
   "cell_type": "code",
   "execution_count": 108,
   "metadata": {},
   "outputs": [
    {
     "data": {
      "text/plain": [
       "'\\nwith Vimba.get_instance () as vimba:\\n    cams = vimba.get_all_cameras ()\\n    if len(cams) > 0:\\n        with cams [0] as cam:\\n            frame = cam.get_frame ()\\n            np_a = frame.as_numpy_ndarray()\\n            save_ar(1, np_a)\\n            frame = cam.get_frame ()\\n            np_a = frame.as_numpy_ndarray()\\n            save_ar(2, np_a)\\n    else:\\n        print(\"no camera detected\")\\n'"
      ]
     },
     "execution_count": 108,
     "metadata": {},
     "output_type": "execute_result"
    }
   ],
   "source": [
    "#alte version erweitert\n",
    "'''\n",
    "with Vimba.get_instance () as vimba:\n",
    "    cams = vimba.get_all_cameras ()\n",
    "    if len(cams) > 0:\n",
    "        with cams [0] as cam:\n",
    "            frame = cam.get_frame ()\n",
    "            np_a = frame.as_numpy_ndarray()\n",
    "            save_ar(1, np_a)\n",
    "            frame = cam.get_frame ()\n",
    "            np_a = frame.as_numpy_ndarray()\n",
    "            save_ar(2, np_a)\n",
    "    else:\n",
    "        print(\"no camera detected\")\n",
    "'''\n"
   ]
  },
  {
   "cell_type": "code",
   "execution_count": 109,
   "metadata": {},
   "outputs": [
    {
     "name": "stdout",
     "output_type": "stream",
     "text": [
      "(<vimba.camera.Camera object at 0x0000016E5B7C82B0>,)\n",
      "Got Frame(id=0, status=FrameStatus.Complete, buffer=0x16e63b46040)\n",
      "Got Frame(id=1, status=FrameStatus.Complete, buffer=0x16e640ba040)\n",
      "Got Frame(id=2, status=FrameStatus.Complete, buffer=0x16e64a13040)\n",
      "Got Frame(id=3, status=FrameStatus.Complete, buffer=0x16e655ff040)\n",
      "Got Frame(id=4, status=FrameStatus.Complete, buffer=0x16e64f8a040)\n",
      "Got Frame(id=5, status=FrameStatus.Complete, buffer=0x16e65b72040)\n",
      "Got Frame(id=6, status=FrameStatus.Complete, buffer=0x16e660e8040)\n",
      "Got Frame(id=7, status=FrameStatus.Complete, buffer=0x16e66652040)\n",
      "Got Frame(id=8, status=FrameStatus.Complete, buffer=0x16e66bc2040)\n",
      "Got Frame(id=9, status=FrameStatus.Complete, buffer=0x16e67134040)\n",
      "Got Frame(id=10, status=FrameStatus.Complete, buffer=0x16e676a6040)\n",
      "Got Frame(id=11, status=FrameStatus.Complete, buffer=0x16e67c17040)\n",
      "Got Frame(id=12, status=FrameStatus.Complete, buffer=0x16e63062040)\n",
      "Got Frame(id=13, status=FrameStatus.Complete, buffer=0x16e686f9040)\n",
      "Got Frame(id=14, status=FrameStatus.Complete, buffer=0x16e68c68040)\n",
      "Got Frame(id=15, status=FrameStatus.Complete, buffer=0x16e691df040)\n",
      "Got Frame(id=16, status=FrameStatus.Complete, buffer=0x16e6975c040)\n",
      "Got Frame(id=17, status=FrameStatus.Complete, buffer=0x16e69cca040)\n",
      "Got Frame(id=18, status=FrameStatus.Complete, buffer=0x16e6a23e040)\n",
      "Got Frame(id=19, status=FrameStatus.Complete, buffer=0x16e6a7af040)\n",
      "Got Frame(id=20, status=FrameStatus.Complete, buffer=0x16e6ad24040)\n",
      "Got Frame(id=21, status=FrameStatus.Complete, buffer=0x16e6b299040)\n",
      "Got Frame(id=22, status=FrameStatus.Complete, buffer=0x16e6b807040)\n",
      "Got Frame(id=23, status=FrameStatus.Complete, buffer=0x16e6bd7d040)\n",
      "Got Frame(id=24, status=FrameStatus.Complete, buffer=0x16e6c2ea040)\n",
      "Got Frame(id=25, status=FrameStatus.Complete, buffer=0x16e6c85f040)\n",
      "Got Frame(id=26, status=FrameStatus.Complete, buffer=0x16e6cddd040)\n",
      "Got Frame(id=27, status=FrameStatus.Complete, buffer=0x16e6d34a040)\n",
      "Got Frame(id=28, status=FrameStatus.Complete, buffer=0x16e6d8bc040)\n",
      "Got Frame(id=29, status=FrameStatus.Complete, buffer=0x16e6de24040)\n",
      "Got Frame(id=30, status=FrameStatus.Complete, buffer=0x16e6e398040)\n",
      "Got Frame(id=31, status=FrameStatus.Complete, buffer=0x16e6e907040)\n",
      "Got Frame(id=32, status=FrameStatus.Complete, buffer=0x16e6ee73040)\n",
      "Got Frame(id=33, status=FrameStatus.Complete, buffer=0x16e6f3e9040)\n",
      "Got Frame(id=34, status=FrameStatus.Complete, buffer=0x16e68189040)\n",
      "Got Frame(id=35, status=FrameStatus.Complete, buffer=0x16e6fec4040)\n",
      "Got Frame(id=36, status=FrameStatus.Complete, buffer=0x16e70432040)\n",
      "Got Frame(id=37, status=FrameStatus.Complete, buffer=0x16e709a3040)\n",
      "Got Frame(id=38, status=FrameStatus.Complete, buffer=0x16e70f1d040)\n",
      "Got Frame(id=39, status=FrameStatus.Complete, buffer=0x16e7148e040)\n",
      "Got Frame(id=40, status=FrameStatus.Complete, buffer=0x16e719f5040)\n",
      "Got Frame(id=41, status=FrameStatus.Complete, buffer=0x16e71f64040)\n",
      "Got Frame(id=42, status=FrameStatus.Complete, buffer=0x16e6f955040)\n",
      "Got Frame(id=43, status=FrameStatus.Complete, buffer=0x16e72a41040)\n",
      "Got Frame(id=44, status=FrameStatus.Complete, buffer=0x16e72fbf040)\n",
      "Got Frame(id=45, status=FrameStatus.Complete, buffer=0x16e73530040)\n",
      "Got Frame(id=46, status=FrameStatus.Complete, buffer=0x16e73aaa040)\n",
      "Got Frame(id=47, status=FrameStatus.Complete, buffer=0x16e7401e040)\n",
      "Got Frame(id=48, status=FrameStatus.Complete, buffer=0x16e74580040)\n",
      "Got Frame(id=49, status=FrameStatus.Complete, buffer=0x16e74af8040)\n",
      "Got Frame(id=50, status=FrameStatus.Complete, buffer=0x16e75062040)\n",
      "Got Frame(id=51, status=FrameStatus.Complete, buffer=0x16e755d5040)\n",
      "Got Frame(id=52, status=FrameStatus.Complete, buffer=0x16e75b44040)\n",
      "Got Frame(id=53, status=FrameStatus.Complete, buffer=0x16e760be040)\n",
      "Got Frame(id=54, status=FrameStatus.Complete, buffer=0x16e724dd040)\n",
      "Got Frame(id=55, status=FrameStatus.Complete, buffer=0x16e76b95040)\n",
      "Got Frame(id=56, status=FrameStatus.Complete, buffer=0x16e77101040)\n",
      "Got Frame(id=57, status=FrameStatus.Complete, buffer=0x16e7767e040)\n",
      "Got Frame(id=58, status=FrameStatus.Complete, buffer=0x16e77be1040)\n",
      "Got Frame(id=59, status=FrameStatus.Complete, buffer=0x16e7815f040)\n",
      "Got Frame(id=60, status=FrameStatus.Complete, buffer=0x16e786d1040)\n",
      "Got Frame(id=61, status=FrameStatus.Complete, buffer=0x16e78c4c040)\n",
      "Got Frame(id=62, status=FrameStatus.Complete, buffer=0x16e791bf040)\n",
      "Got Frame(id=63, status=FrameStatus.Complete, buffer=0x16e79736040)\n",
      "Got Frame(id=64, status=FrameStatus.Complete, buffer=0x16e63b4e040)\n",
      "Got Frame(id=65, status=FrameStatus.Complete, buffer=0x16e640b5040)\n",
      "Got Frame(id=66, status=FrameStatus.Complete, buffer=0x16e64a14040)\n",
      "Got Frame(id=67, status=FrameStatus.Complete, buffer=0x16e64f8e040)\n",
      "Got Frame(id=68, status=FrameStatus.Complete, buffer=0x16e655f6040)\n",
      "Got Frame(id=69, status=FrameStatus.Complete, buffer=0x16e65b65040)\n",
      "Got Frame(id=70, status=FrameStatus.Complete, buffer=0x16e660d2040)\n",
      "Got Frame(id=71, status=FrameStatus.Complete, buffer=0x16e6664b040)\n",
      "Got Frame(id=72, status=FrameStatus.Complete, buffer=0x16e66bba040)\n",
      "Got Frame(id=73, status=FrameStatus.Complete, buffer=0x16e6712e040)\n",
      "Got Frame(id=74, status=FrameStatus.Complete, buffer=0x16e63068040)\n",
      "Got Frame(id=75, status=FrameStatus.Complete, buffer=0x16e67c08040)\n",
      "Got Frame(id=76, status=FrameStatus.Complete, buffer=0x16e68170040)\n",
      "Got Frame(id=77, status=FrameStatus.Complete, buffer=0x16e686e1040)\n",
      "Got Frame(id=78, status=FrameStatus.Complete, buffer=0x16e68c57040)\n",
      "Got Frame(id=79, status=FrameStatus.Complete, buffer=0x16e691c8040)\n",
      "Got Frame(id=80, status=FrameStatus.Complete, buffer=0x16e69734040)\n",
      "Got Frame(id=81, status=FrameStatus.Complete, buffer=0x16e69ca5040)\n",
      "Got Frame(id=82, status=FrameStatus.Complete, buffer=0x16e6a21e040)\n",
      "Got Frame(id=83, status=FrameStatus.Complete, buffer=0x16e6a782040)\n",
      "Got Frame(id=84, status=FrameStatus.Complete, buffer=0x16e6acf1040)\n",
      "Got Frame(id=85, status=FrameStatus.Complete, buffer=0x16e6b267040)\n",
      "Got Frame(id=86, status=FrameStatus.Complete, buffer=0x16e6b7de040)\n",
      "Got Frame(id=87, status=FrameStatus.Complete, buffer=0x16e6bd42040)\n",
      "Got Frame(id=88, status=FrameStatus.Complete, buffer=0x16e6c2bc040)\n",
      "Got Frame(id=89, status=FrameStatus.Complete, buffer=0x16e6c825040)\n",
      "Got Frame(id=90, status=FrameStatus.Complete, buffer=0x16e6cd91040)\n",
      "Got Frame(id=91, status=FrameStatus.Complete, buffer=0x16e6d305040)\n",
      "Got Frame(id=92, status=FrameStatus.Complete, buffer=0x16e6d87c040)\n",
      "Got Frame(id=93, status=FrameStatus.Complete, buffer=0x16e6ddef040)\n",
      "Got Frame(id=94, status=FrameStatus.Complete, buffer=0x16e6e36c040)\n",
      "Got Frame(id=95, status=FrameStatus.Complete, buffer=0x16e6e8d3040)\n",
      "Got Frame(id=96, status=FrameStatus.Complete, buffer=0x16e6ee4c040)\n",
      "Got Frame(id=97, status=FrameStatus.Complete, buffer=0x16e6f3b8040)\n",
      "Got Frame(id=98, status=FrameStatus.Complete, buffer=0x16e6f924040)\n",
      "Got Frame(id=99, status=FrameStatus.Complete, buffer=0x16e67695040)\n",
      "Got Frame(id=100, status=FrameStatus.Complete, buffer=0x16e70400040)\n",
      "Got Frame(id=101, status=FrameStatus.Complete, buffer=0x16e70970040)\n",
      "Got Frame(id=102, status=FrameStatus.Complete, buffer=0x16e70eeb040)\n",
      "Got Frame(id=103, status=FrameStatus.Complete, buffer=0x16e6fe94040)\n",
      "Got Frame(id=104, status=FrameStatus.Complete, buffer=0x16e719c8040)\n",
      "Got Frame(id=105, status=FrameStatus.Complete, buffer=0x16e71f3e040)\n",
      "Got Frame(id=106, status=FrameStatus.Complete, buffer=0x16e724ad040)\n",
      "Got Frame(id=107, status=FrameStatus.Complete, buffer=0x16e72a10040)\n",
      "Got Frame(id=108, status=FrameStatus.Complete, buffer=0x16e72f85040)\n",
      "Got Frame(id=109, status=FrameStatus.Complete, buffer=0x16e734f3040)\n",
      "Got Frame(id=110, status=FrameStatus.Complete, buffer=0x16e73a6b040)\n",
      "Got Frame(id=111, status=FrameStatus.Complete, buffer=0x16e73fdc040)\n",
      "Got Frame(id=112, status=FrameStatus.Complete, buffer=0x16e7454c040)\n",
      "Got Frame(id=113, status=FrameStatus.Complete, buffer=0x16e74abf040)\n",
      "Got Frame(id=114, status=FrameStatus.Complete, buffer=0x16e75037040)\n",
      "Got Frame(id=115, status=FrameStatus.Complete, buffer=0x16e755ae040)\n",
      "Got Frame(id=116, status=FrameStatus.Complete, buffer=0x16e75b1b040)\n",
      "Got Frame(id=117, status=FrameStatus.Complete, buffer=0x16e76082040)\n",
      "Got Frame(id=118, status=FrameStatus.Complete, buffer=0x16e765ff040)\n",
      "Got Frame(id=119, status=FrameStatus.Complete, buffer=0x16e7145b040)\n",
      "Got Frame(id=120, status=FrameStatus.Complete, buffer=0x16e770e0040)\n",
      "Got Frame(id=121, status=FrameStatus.Complete, buffer=0x16e7765b040)\n",
      "Got Frame(id=122, status=FrameStatus.Complete, buffer=0x16e77bcc040)\n",
      "Got Frame(id=123, status=FrameStatus.Complete, buffer=0x16e7813f040)\n",
      "Got Frame(id=124, status=FrameStatus.Complete, buffer=0x16e786b6040)\n",
      "Got Frame(id=125, status=FrameStatus.Complete, buffer=0x16e76b76040)\n",
      "Got Frame(id=126, status=FrameStatus.Complete, buffer=0x16e79caf040)\n",
      "Got Frame(id=127, status=FrameStatus.Complete, buffer=0x16e7a22b040)\n",
      "Got Frame(id=128, status=FrameStatus.Complete, buffer=0x16e7a79f040)\n",
      "Got Frame(id=129, status=FrameStatus.Complete, buffer=0x16e7ad1f040)\n",
      "Got Frame(id=130, status=FrameStatus.Complete, buffer=0x16e7bd10040)\n",
      "Got Frame(id=131, status=FrameStatus.Complete, buffer=0x16e7c28c040)\n",
      "Got Frame(id=132, status=FrameStatus.Complete, buffer=0x16e7c7f8040)\n",
      "Got Frame(id=133, status=FrameStatus.Complete, buffer=0x16e7cd69040)\n",
      "Got Frame(id=134, status=FrameStatus.Complete, buffer=0x16e7d2d6040)\n",
      "Got Frame(id=135, status=FrameStatus.Complete, buffer=0x16e7d84e040)\n",
      "Got Frame(id=136, status=FrameStatus.Complete, buffer=0x16e7e330040)\n",
      "Got Frame(id=137, status=FrameStatus.Complete, buffer=0x16e7e8ac040)\n",
      "Got Frame(id=138, status=FrameStatus.Complete, buffer=0x16e7ee1f040)\n",
      "Got Frame(id=139, status=FrameStatus.Complete, buffer=0x16e7f39b040)\n",
      "Got Frame(id=140, status=FrameStatus.Complete, buffer=0x16e7f909040)\n",
      "Got Frame(id=141, status=FrameStatus.Complete, buffer=0x16e00571040)\n",
      "Got Frame(id=142, status=FrameStatus.Complete, buffer=0x16e0105f040)\n",
      "Got Frame(id=143, status=FrameStatus.Complete, buffer=0x16e015dd040)\n",
      "Got Frame(id=144, status=FrameStatus.Complete, buffer=0x16e01b4a040)\n",
      "Got Frame(id=145, status=FrameStatus.Complete, buffer=0x16e020bb040)\n",
      "Got Frame(id=146, status=FrameStatus.Complete, buffer=0x16e02622040)\n",
      "Got Frame(id=147, status=FrameStatus.Complete, buffer=0x16e02b9c040)\n",
      "Got Frame(id=148, status=FrameStatus.Complete, buffer=0x16e00aed040)\n",
      "Got Frame(id=149, status=FrameStatus.Complete, buffer=0x16e0105c040)\n",
      "Got Frame(id=150, status=FrameStatus.Complete, buffer=0x16e015cc040)\n",
      "Got Frame(id=151, status=FrameStatus.Complete, buffer=0x16e01b3e040)\n",
      "Got Frame(id=152, status=FrameStatus.Complete, buffer=0x16e020a9040)\n",
      "Got Frame(id=153, status=FrameStatus.Complete, buffer=0x16e0261e040)\n",
      "Got Frame(id=154, status=FrameStatus.Complete, buffer=0x16e0310e040)\n",
      "Got Frame(id=155, status=FrameStatus.Complete, buffer=0x16e03676040)\n",
      "Got Frame(id=156, status=FrameStatus.Complete, buffer=0x16e03bea040)\n",
      "Got Frame(id=157, status=FrameStatus.Complete, buffer=0x16e00577040)\n",
      "Got Frame(id=158, status=FrameStatus.Complete, buffer=0x16e046cd040)\n",
      "Got Frame(id=159, status=FrameStatus.Complete, buffer=0x16e04c36040)\n",
      "Got Frame(id=160, status=FrameStatus.Complete, buffer=0x16e051a2040)\n",
      "Got Frame(id=161, status=FrameStatus.Complete, buffer=0x16e05719040)\n",
      "Got Frame(id=162, status=FrameStatus.Complete, buffer=0x16e05c88040)\n",
      "Got Frame(id=163, status=FrameStatus.Complete, buffer=0x16e061fd040)\n",
      "Got Frame(id=164, status=FrameStatus.Complete, buffer=0x16e0676b040)\n",
      "Got Frame(id=165, status=FrameStatus.Complete, buffer=0x16e06cdc040)\n",
      "Got Frame(id=166, status=FrameStatus.Complete, buffer=0x16e0724b040)\n",
      "Got Frame(id=167, status=FrameStatus.Complete, buffer=0x16e077b3040)\n",
      "Got Frame(id=168, status=FrameStatus.Complete, buffer=0x16e07d22040)\n",
      "Got Frame(id=169, status=FrameStatus.Complete, buffer=0x16e08294040)\n",
      "Got Frame(id=170, status=FrameStatus.Complete, buffer=0x16e04150040)\n",
      "Got Frame(id=171, status=FrameStatus.Complete, buffer=0x16e08d75040)\n",
      "Got Frame(id=172, status=FrameStatus.Complete, buffer=0x16e08801040)\n",
      "Got Frame(id=173, status=FrameStatus.Complete, buffer=0x16e0985f040)\n",
      "Got Frame(id=174, status=FrameStatus.Complete, buffer=0x16e09dde040)\n",
      "Got Frame(id=175, status=FrameStatus.Complete, buffer=0x16e0a34d040)\n",
      "Got Frame(id=176, status=FrameStatus.Complete, buffer=0x16e0a8bc040)\n",
      "Got Frame(id=177, status=FrameStatus.Complete, buffer=0x16e0ae20040)\n",
      "Got Frame(id=178, status=FrameStatus.Complete, buffer=0x16e0b398040)\n",
      "Got Frame(id=179, status=FrameStatus.Complete, buffer=0x16e0b906040)\n",
      "Got Frame(id=180, status=FrameStatus.Complete, buffer=0x16e0be7a040)\n",
      "Got Frame(id=181, status=FrameStatus.Complete, buffer=0x16e0c3eb040)\n",
      "Got Frame(id=182, status=FrameStatus.Complete, buffer=0x16e0c956040)\n",
      "Got Frame(id=183, status=FrameStatus.Complete, buffer=0x16e0cec1040)\n",
      "Got Frame(id=184, status=FrameStatus.Complete, buffer=0x16e0d43f040)\n",
      "Got Frame(id=185, status=FrameStatus.Complete, buffer=0x16e0d9b4040)\n",
      "Got Frame(id=186, status=FrameStatus.Complete, buffer=0x16e092e8040)\n",
      "Got Frame(id=187, status=FrameStatus.Complete, buffer=0x16e0e497040)\n",
      "Got Frame(id=188, status=FrameStatus.Complete, buffer=0x16e0ea08040)\n",
      "Got Frame(id=189, status=FrameStatus.Complete, buffer=0x16e0ef71040)\n",
      "Got Frame(id=190, status=FrameStatus.Complete, buffer=0x16e0f4eb040)\n",
      "Got Frame(id=191, status=FrameStatus.Complete, buffer=0x16e0fa5e040)\n",
      "Got Frame(id=192, status=FrameStatus.Complete, buffer=0x16e0ffcf040)\n",
      "Got Frame(id=193, status=FrameStatus.Complete, buffer=0x16e10549040)\n",
      "Got Frame(id=194, status=FrameStatus.Complete, buffer=0x16e10ab0040)\n",
      "Got Frame(id=195, status=FrameStatus.Complete, buffer=0x16e11026040)\n",
      "Got Frame(id=196, status=FrameStatus.Complete, buffer=0x16e11599040)\n",
      "Got Frame(id=197, status=FrameStatus.Complete, buffer=0x16e11b01040)\n",
      "Got Frame(id=198, status=FrameStatus.Complete, buffer=0x16e12070040)\n",
      "Got Frame(id=199, status=FrameStatus.Complete, buffer=0x16e125ea040)\n"
     ]
    }
   ],
   "source": [
    "#synchronous_grab.py  example\n",
    "with Vimba.get_instance () as vimba:\n",
    "    cams = vimba.get_all_cameras ()\n",
    "    print(cams)\n",
    "    if len(cams) > 0:\n",
    "        with cams [0] as cam:\n",
    "            i = 1\n",
    "            cam.ExposureAuto = 'On'\n",
    "            for frame in cam.get_frame_generator(limit=200, timeout_ms=3000):\n",
    "                            print('Got {}'.format(frame), flush=True)\n",
    "                            np_a = frame.as_numpy_ndarray()\n",
    "                            save_ar(i, np_a)\n",
    "                            i += 1\n",
    "    else:\n",
    "        print(\"no camera detected\")"
   ]
  },
  {
   "cell_type": "code",
   "execution_count": null,
   "metadata": {},
   "outputs": [],
   "source": []
  },
  {
   "cell_type": "markdown",
   "metadata": {},
   "source": [
    "Bilder anschauen"
   ]
  },
  {
   "cell_type": "code",
   "execution_count": 110,
   "metadata": {},
   "outputs": [
    {
     "data": {
      "image/png": "[encoded data removed]",
      "text/plain": [
       "<Figure size 432x288 with 1 Axes>"
      ]
     },
     "metadata": {
      "needs_background": "light"
     },
     "output_type": "display_data"
    },
    {
     "data": {
      "image/png": "[encoded data removed]",
      "text/plain": [
       "<Figure size 432x288 with 1 Axes>"
      ]
     },
     "metadata": {
      "needs_background": "light"
     },
     "output_type": "display_data"
    },
    {
     "data": {
      "image/png": "[encoded data removed]",
      "text/plain": [
       "<Figure size 432x288 with 1 Axes>"
      ]
     },
     "metadata": {
      "needs_background": "light"
     },
     "output_type": "display_data"
    }
   ],
   "source": [
    "\n",
    "open_plot(1)\n",
    "open_plot(50)\n",
    "open_plot(99)"
   ]
  }
 ],
 "metadata": {
  "kernelspec": {
   "display_name": "Python 3.10.0 64-bit",
   "language": "python",
   "name": "python3"
  },
  "language_info": {
   "codemirror_mode": {
    "name": "ipython",
    "version": 3
   },
   "file_extension": ".py",
   "mimetype": "text/x-python",
   "name": "python",
   "nbconvert_exporter": "python",
   "pygments_lexer": "ipython3",
   "version": "3.10.0"
  },
  "orig_nbformat": 4,
  "vscode": {
   "interpreter": {
    "hash": "369f2c481f4da34e4445cda3fffd2e751bd1c4d706f27375911949ba6bb62e1c"
   }
  }
 },
 "nbformat": 4,
 "nbformat_minor": 2
}
