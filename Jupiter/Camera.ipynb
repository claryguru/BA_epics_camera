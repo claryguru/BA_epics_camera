{
 "cells": [
  {
   "cell_type": "markdown",
   "metadata": {},
   "source": [
    "## Camera\n",
    "\n",
    "Test harvest lib "
   ]
  },
  {
   "cell_type": "markdown",
   "metadata": {},
   "source": [
    "### Installation\n",
    "harvester geht nur mit max. python 3.6 -> change Kernel \n",
    "(To add new kernel, install desired python version.  don't add this version to PATH, if you have more than one version. \n",
    "Press STRG+Shift+P, type \"Select Interpreter\", click on the \"+\" Button insert path to your new python version path. \n",
    "Select new kernel, visual studio code might ask you to install ipkernel, if that hasn't happend so far, click yes.)\n",
    " "
   ]
  },
  {
   "cell_type": "code",
   "execution_count": 2,
   "metadata": {},
   "outputs": [
    {
     "name": "stdout",
     "output_type": "stream",
     "text": [
      "Collecting harvesters-util\n",
      "  Using cached harvesters_util-0.1.0-py3-none-any.whl (27 kB)\n",
      "Installing collected packages: harvesters-util\n",
      "Successfully installed harvesters-util-0.1.0\n"
     ]
    },
    {
     "name": "stderr",
     "output_type": "stream",
     "text": [
      "WARNING: You are using pip version 20.1.1; however, version 22.1 is available.\n",
      "You should consider upgrading via the 'c:\\Users\\qdf\\AppData\\Local\\Programs\\Python\\Python37\\python.exe -m pip install --upgrade pip' command.\n"
     ]
    },
    {
     "name": "stdout",
     "output_type": "stream",
     "text": [
      "Requirement already satisfied: numpy in c:\\users\\qdf\\appdata\\local\\programs\\python\\python37\\lib\\site-packages (1.21.6)\n"
     ]
    },
    {
     "name": "stderr",
     "output_type": "stream",
     "text": [
      "WARNING: You are using pip version 20.1.1; however, version 22.1 is available.\n",
      "You should consider upgrading via the 'c:\\Users\\qdf\\AppData\\Local\\Programs\\Python\\Python37\\python.exe -m pip install --upgrade pip' command.\n"
     ]
    },
    {
     "name": "stdout",
     "output_type": "stream",
     "text": [
      "Requirement already satisfied: harvesters-gui in c:\\users\\qdf\\appdata\\local\\programs\\python\\python37\\lib\\site-packages (1.0.2)\n",
      "Requirement already satisfied: harvesters>=1.1 in c:\\users\\qdf\\appdata\\local\\programs\\python\\python37\\lib\\site-packages (from harvesters-gui) (1.3.8)\n",
      "Requirement already satisfied: vispy<=0.6 in c:\\users\\qdf\\appdata\\local\\programs\\python\\python37\\lib\\site-packages (from harvesters-gui) (0.6.0)\n",
      "Requirement already satisfied: PyQt5<=5.13 in c:\\users\\qdf\\appdata\\local\\programs\\python\\python37\\lib\\site-packages (from harvesters-gui) (5.13.0)\n",
      "Requirement already satisfied: genicam<1.2 in c:\\users\\qdf\\appdata\\local\\programs\\python\\python37\\lib\\site-packages (from harvesters>=1.1->harvesters-gui) (1.1.0)\n",
      "Requirement already satisfied: numpy in c:\\users\\qdf\\appdata\\local\\programs\\python\\python37\\lib\\site-packages (from harvesters>=1.1->harvesters-gui) (1.21.6)\n",
      "Requirement already satisfied: freetype-py in c:\\users\\qdf\\appdata\\local\\programs\\python\\python37\\lib\\site-packages (from vispy<=0.6->harvesters-gui) (2.3.0)\n",
      "Requirement already satisfied: PyQt5_sip<13,>=4.19.14 in c:\\users\\qdf\\appdata\\local\\programs\\python\\python37\\lib\\site-packages (from PyQt5<=5.13->harvesters-gui) (12.10.1)\n"
     ]
    },
    {
     "name": "stderr",
     "output_type": "stream",
     "text": [
      "WARNING: You are using pip version 20.1.1; however, version 22.1 is available.\n",
      "You should consider upgrading via the 'c:\\Users\\qdf\\AppData\\Local\\Programs\\Python\\Python37\\python.exe -m pip install --upgrade pip' command.\n"
     ]
    },
    {
     "name": "stdout",
     "output_type": "stream",
     "text": [
      "Requirement already satisfied: PyQt5 in c:\\users\\qdf\\appdata\\local\\programs\\python\\python37\\lib\\site-packages (5.13.0)\n",
      "Requirement already satisfied: vispy in c:\\users\\qdf\\appdata\\local\\programs\\python\\python37\\lib\\site-packages (0.6.0)\n",
      "Requirement already satisfied: PyQt5_sip<13,>=4.19.14 in c:\\users\\qdf\\appdata\\local\\programs\\python\\python37\\lib\\site-packages (from PyQt5) (12.10.1)\n",
      "Requirement already satisfied: numpy in c:\\users\\qdf\\appdata\\local\\programs\\python\\python37\\lib\\site-packages (from vispy) (1.21.6)\n",
      "Requirement already satisfied: freetype-py in c:\\users\\qdf\\appdata\\local\\programs\\python\\python37\\lib\\site-packages (from vispy) (2.3.0)\n"
     ]
    },
    {
     "name": "stderr",
     "output_type": "stream",
     "text": [
      "WARNING: You are using pip version 20.1.1; however, version 22.1 is available.\n",
      "You should consider upgrading via the 'c:\\Users\\qdf\\AppData\\Local\\Programs\\Python\\Python37\\python.exe -m pip install --upgrade pip' command.\n"
     ]
    }
   ],
   "source": [
    "#einmalig ausführen \n",
    "#!{sys.executable} -m pip install harvesters-util\n",
    "#!{sys.executable} -m pip install numpy\n",
    "#!{sys.executable} -m pip install harvesters-gui\n",
    "#!{sys.executable} -m pip install PyQt5 vispy"
   ]
  },
  {
   "cell_type": "code",
   "execution_count": 3,
   "metadata": {},
   "outputs": [
    {
     "name": "stderr",
     "output_type": "stream",
     "text": [
      "c:\\Users\\qdf\\AppData\\Local\\Programs\\Python\\Python37\\lib\\site-packages\\vispy\\gloo\\program.py:113: DeprecationWarning: `np.bool` is a deprecated alias for the builtin `bool`. To silence this warning, use `bool` by itself. Doing this will not modify any behavior and is safe. If you specifically wanted the numpy scalar type, use `np.bool_` here.\n",
      "Deprecated in NumPy 1.20; for more details and guidance: https://numpy.org/devdocs/release/1.20.0-notes.html#deprecations\n",
      "  'bvec2':        (np.bool,    2),\n"
     ]
    }
   ],
   "source": [
    "import sys\n",
    "from PyQt5.QtWidgets import QApplication\n",
    "from harvesters_gui.frontend.pyqt5 import Harvester"
   ]
  },
  {
   "cell_type": "code",
   "execution_count": 4,
   "metadata": {},
   "outputs": [
    {
     "ename": "RuntimeError",
     "evalue": "Config vsync is not supported by backend ipynb_webgl",
     "output_type": "error",
     "traceback": [
      "\u001b[1;31m---------------------------------------------------------------------------\u001b[0m",
      "\u001b[1;31mRuntimeError\u001b[0m                              Traceback (most recent call last)",
      "\u001b[1;32m~\\AppData\\Local\\Temp\\ipykernel_26036\\3607888855.py\u001b[0m in \u001b[0;36m<module>\u001b[1;34m\u001b[0m\n\u001b[0;32m      1\u001b[0m \u001b[1;32mif\u001b[0m \u001b[0m__name__\u001b[0m \u001b[1;33m==\u001b[0m \u001b[1;34m'__main__'\u001b[0m\u001b[1;33m:\u001b[0m\u001b[1;33m\u001b[0m\u001b[1;33m\u001b[0m\u001b[0m\n\u001b[0;32m      2\u001b[0m     \u001b[0mapp\u001b[0m \u001b[1;33m=\u001b[0m \u001b[0mQApplication\u001b[0m\u001b[1;33m(\u001b[0m\u001b[0msys\u001b[0m\u001b[1;33m.\u001b[0m\u001b[0margv\u001b[0m\u001b[1;33m)\u001b[0m\u001b[1;33m\u001b[0m\u001b[1;33m\u001b[0m\u001b[0m\n\u001b[1;32m----> 3\u001b[1;33m     \u001b[0mh\u001b[0m \u001b[1;33m=\u001b[0m \u001b[0mHarvester\u001b[0m\u001b[1;33m(\u001b[0m\u001b[1;33m)\u001b[0m\u001b[1;33m\u001b[0m\u001b[1;33m\u001b[0m\u001b[0m\n\u001b[0m\u001b[0;32m      4\u001b[0m     \u001b[0mh\u001b[0m\u001b[1;33m.\u001b[0m\u001b[0mshow\u001b[0m\u001b[1;33m(\u001b[0m\u001b[1;33m)\u001b[0m\u001b[1;33m\u001b[0m\u001b[1;33m\u001b[0m\u001b[0m\n\u001b[0;32m      5\u001b[0m     \u001b[0msys\u001b[0m\u001b[1;33m.\u001b[0m\u001b[0mexit\u001b[0m\u001b[1;33m(\u001b[0m\u001b[0mapp\u001b[0m\u001b[1;33m.\u001b[0m\u001b[0mexec_\u001b[0m\u001b[1;33m(\u001b[0m\u001b[1;33m)\u001b[0m\u001b[1;33m)\u001b[0m\u001b[1;33m\u001b[0m\u001b[1;33m\u001b[0m\u001b[0m\n",
      "\u001b[1;32mc:\\Users\\qdf\\AppData\\Local\\Programs\\Python\\Python37\\lib\\site-packages\\harvesters_gui\\frontend\\pyqt5.py\u001b[0m in \u001b[0;36m__init__\u001b[1;34m(self, vsync, logger)\u001b[0m\n\u001b[0;32m     73\u001b[0m \u001b[1;33m\u001b[0m\u001b[0m\n\u001b[0;32m     74\u001b[0m         \u001b[1;31m#\u001b[0m\u001b[1;33m\u001b[0m\u001b[1;33m\u001b[0m\u001b[1;33m\u001b[0m\u001b[0m\n\u001b[1;32m---> 75\u001b[1;33m         \u001b[0mself\u001b[0m\u001b[1;33m.\u001b[0m\u001b[0m_widget_canvas\u001b[0m \u001b[1;33m=\u001b[0m \u001b[0mCanvas2D\u001b[0m\u001b[1;33m(\u001b[0m\u001b[0mvsync\u001b[0m\u001b[1;33m=\u001b[0m\u001b[0mvsync\u001b[0m\u001b[1;33m)\u001b[0m\u001b[1;33m\u001b[0m\u001b[1;33m\u001b[0m\u001b[0m\n\u001b[0m\u001b[0;32m     76\u001b[0m         \u001b[0mself\u001b[0m\u001b[1;33m.\u001b[0m\u001b[0m_widget_canvas\u001b[0m\u001b[1;33m.\u001b[0m\u001b[0mcreate_native\u001b[0m\u001b[1;33m(\u001b[0m\u001b[1;33m)\u001b[0m\u001b[1;33m\u001b[0m\u001b[1;33m\u001b[0m\u001b[0m\n\u001b[0;32m     77\u001b[0m         \u001b[0mself\u001b[0m\u001b[1;33m.\u001b[0m\u001b[0m_widget_canvas\u001b[0m\u001b[1;33m.\u001b[0m\u001b[0mnative\u001b[0m\u001b[1;33m.\u001b[0m\u001b[0msetParent\u001b[0m\u001b[1;33m(\u001b[0m\u001b[0mself\u001b[0m\u001b[1;33m)\u001b[0m\u001b[1;33m\u001b[0m\u001b[1;33m\u001b[0m\u001b[0m\n",
      "\u001b[1;32mc:\\Users\\qdf\\AppData\\Local\\Programs\\Python\\Python37\\lib\\site-packages\\harvesters_gui\\_private\\frontend\\canvas.py\u001b[0m in \u001b[0;36m__init__\u001b[1;34m(self, image_acquirer, width, height, background_color, vsync, display_rate)\u001b[0m\n\u001b[0;32m    250\u001b[0m             \u001b[0mdisplay_rate\u001b[0m\u001b[1;33m=\u001b[0m\u001b[0mdisplay_rate\u001b[0m\u001b[1;33m,\u001b[0m\u001b[1;33m\u001b[0m\u001b[1;33m\u001b[0m\u001b[0m\n\u001b[0;32m    251\u001b[0m             \u001b[0mbackground_color\u001b[0m\u001b[1;33m=\u001b[0m\u001b[0mbackground_color\u001b[0m\u001b[1;33m,\u001b[0m\u001b[1;33m\u001b[0m\u001b[1;33m\u001b[0m\u001b[0m\n\u001b[1;32m--> 252\u001b[1;33m             \u001b[0mvsync\u001b[0m\u001b[1;33m=\u001b[0m\u001b[0mvsync\u001b[0m\u001b[1;33m\u001b[0m\u001b[1;33m\u001b[0m\u001b[0m\n\u001b[0m\u001b[0;32m    253\u001b[0m         )\n\u001b[0;32m    254\u001b[0m \u001b[1;33m\u001b[0m\u001b[0m\n",
      "\u001b[1;32mc:\\Users\\qdf\\AppData\\Local\\Programs\\Python\\Python37\\lib\\site-packages\\harvesters_gui\\_private\\frontend\\canvas.py\u001b[0m in \u001b[0;36m__init__\u001b[1;34m(self, image_acquirer, width, height, display_rate, background_color, vsync)\u001b[0m\n\u001b[0;32m     61\u001b[0m         \u001b[1;31m#\u001b[0m\u001b[1;33m\u001b[0m\u001b[1;33m\u001b[0m\u001b[1;33m\u001b[0m\u001b[0m\n\u001b[0;32m     62\u001b[0m         app.Canvas.__init__(\n\u001b[1;32m---> 63\u001b[1;33m             \u001b[0mself\u001b[0m\u001b[1;33m,\u001b[0m \u001b[0msize\u001b[0m\u001b[1;33m=\u001b[0m\u001b[1;33m(\u001b[0m\u001b[0mwidth\u001b[0m\u001b[1;33m,\u001b[0m \u001b[0mheight\u001b[0m\u001b[1;33m)\u001b[0m\u001b[1;33m,\u001b[0m \u001b[0mvsync\u001b[0m\u001b[1;33m=\u001b[0m\u001b[0mvsync\u001b[0m\u001b[1;33m,\u001b[0m \u001b[0mautoswap\u001b[0m\u001b[1;33m=\u001b[0m\u001b[1;32mTrue\u001b[0m\u001b[1;33m\u001b[0m\u001b[1;33m\u001b[0m\u001b[0m\n\u001b[0m\u001b[0;32m     64\u001b[0m         )\n\u001b[0;32m     65\u001b[0m \u001b[1;33m\u001b[0m\u001b[0m\n",
      "\u001b[1;32mc:\\Users\\qdf\\AppData\\Local\\Programs\\Python\\Python37\\lib\\site-packages\\vispy\\app\\canvas.py\u001b[0m in \u001b[0;36m__init__\u001b[1;34m(self, title, size, position, show, autoswap, app, create_native, vsync, resizable, decorate, fullscreen, config, shared, keys, parent, dpi, always_on_top, px_scale)\u001b[0m\n\u001b[0;32m    203\u001b[0m         \u001b[1;31m# Create widget now (always do this *last*, after all err checks)\u001b[0m\u001b[1;33m\u001b[0m\u001b[1;33m\u001b[0m\u001b[1;33m\u001b[0m\u001b[0m\n\u001b[0;32m    204\u001b[0m         \u001b[1;32mif\u001b[0m \u001b[0mcreate_native\u001b[0m\u001b[1;33m:\u001b[0m\u001b[1;33m\u001b[0m\u001b[1;33m\u001b[0m\u001b[0m\n\u001b[1;32m--> 205\u001b[1;33m             \u001b[0mself\u001b[0m\u001b[1;33m.\u001b[0m\u001b[0mcreate_native\u001b[0m\u001b[1;33m(\u001b[0m\u001b[1;33m)\u001b[0m\u001b[1;33m\u001b[0m\u001b[1;33m\u001b[0m\u001b[0m\n\u001b[0m\u001b[0;32m    206\u001b[0m \u001b[1;33m\u001b[0m\u001b[0m\n\u001b[0;32m    207\u001b[0m             \u001b[1;31m# Now we're ready to become current\u001b[0m\u001b[1;33m\u001b[0m\u001b[1;33m\u001b[0m\u001b[1;33m\u001b[0m\u001b[0m\n",
      "\u001b[1;32mc:\\Users\\qdf\\AppData\\Local\\Programs\\Python\\Python37\\lib\\site-packages\\vispy\\app\\canvas.py\u001b[0m in \u001b[0;36mcreate_native\u001b[1;34m(self)\u001b[0m\n\u001b[0;32m    220\u001b[0m         \u001b[1;32massert\u001b[0m \u001b[0mself\u001b[0m\u001b[1;33m.\u001b[0m\u001b[0m_app\u001b[0m\u001b[1;33m.\u001b[0m\u001b[0mnative\u001b[0m\u001b[1;33m\u001b[0m\u001b[1;33m\u001b[0m\u001b[0m\n\u001b[0;32m    221\u001b[0m         \u001b[1;31m# Instantiate the backend with the right class\u001b[0m\u001b[1;33m\u001b[0m\u001b[1;33m\u001b[0m\u001b[1;33m\u001b[0m\u001b[0m\n\u001b[1;32m--> 222\u001b[1;33m         \u001b[0mself\u001b[0m\u001b[1;33m.\u001b[0m\u001b[0m_app\u001b[0m\u001b[1;33m.\u001b[0m\u001b[0mbackend_module\u001b[0m\u001b[1;33m.\u001b[0m\u001b[0mCanvasBackend\u001b[0m\u001b[1;33m(\u001b[0m\u001b[0mself\u001b[0m\u001b[1;33m,\u001b[0m \u001b[1;33m**\u001b[0m\u001b[0mself\u001b[0m\u001b[1;33m.\u001b[0m\u001b[0m_backend_kwargs\u001b[0m\u001b[1;33m)\u001b[0m\u001b[1;33m\u001b[0m\u001b[1;33m\u001b[0m\u001b[0m\n\u001b[0m\u001b[0;32m    223\u001b[0m         \u001b[1;31m# self._backend = set by BaseCanvasBackend\u001b[0m\u001b[1;33m\u001b[0m\u001b[1;33m\u001b[0m\u001b[1;33m\u001b[0m\u001b[0m\n\u001b[0;32m    224\u001b[0m         \u001b[0mself\u001b[0m\u001b[1;33m.\u001b[0m\u001b[0m_backend_kwargs\u001b[0m \u001b[1;33m=\u001b[0m \u001b[1;32mNone\u001b[0m  \u001b[1;31m# Clean up\u001b[0m\u001b[1;33m\u001b[0m\u001b[1;33m\u001b[0m\u001b[0m\n",
      "\u001b[1;32mc:\\Users\\qdf\\AppData\\Local\\Programs\\Python\\Python37\\lib\\site-packages\\vispy\\app\\backends\\_ipynb_webgl.py\u001b[0m in \u001b[0;36m__init__\u001b[1;34m(self, *args, **kwargs)\u001b[0m\n\u001b[0;32m    104\u001b[0m         \u001b[0mself\u001b[0m\u001b[1;33m.\u001b[0m\u001b[0m_widget\u001b[0m \u001b[1;33m=\u001b[0m \u001b[1;32mNone\u001b[0m\u001b[1;33m\u001b[0m\u001b[1;33m\u001b[0m\u001b[0m\n\u001b[0;32m    105\u001b[0m \u001b[1;33m\u001b[0m\u001b[0m\n\u001b[1;32m--> 106\u001b[1;33m         \u001b[0mp\u001b[0m \u001b[1;33m=\u001b[0m \u001b[0mself\u001b[0m\u001b[1;33m.\u001b[0m\u001b[0m_process_backend_kwargs\u001b[0m\u001b[1;33m(\u001b[0m\u001b[0mkwargs\u001b[0m\u001b[1;33m)\u001b[0m\u001b[1;33m\u001b[0m\u001b[1;33m\u001b[0m\u001b[0m\n\u001b[0m\u001b[0;32m    107\u001b[0m         \u001b[0mself\u001b[0m\u001b[1;33m.\u001b[0m\u001b[0m_context\u001b[0m \u001b[1;33m=\u001b[0m \u001b[0mp\u001b[0m\u001b[1;33m.\u001b[0m\u001b[0mcontext\u001b[0m\u001b[1;33m\u001b[0m\u001b[1;33m\u001b[0m\u001b[0m\n\u001b[0;32m    108\u001b[0m \u001b[1;33m\u001b[0m\u001b[0m\n",
      "\u001b[1;32mc:\\Users\\qdf\\AppData\\Local\\Programs\\Python\\Python37\\lib\\site-packages\\vispy\\app\\base.py\u001b[0m in \u001b[0;36m_process_backend_kwargs\u001b[1;34m(self, kwargs)\u001b[0m\n\u001b[0;32m     95\u001b[0m             \u001b[1;32mif\u001b[0m \u001b[0mbool\u001b[0m\u001b[1;33m(\u001b[0m\u001b[0mkwargs\u001b[0m\u001b[1;33m[\u001b[0m\u001b[0mkey\u001b[0m\u001b[1;33m]\u001b[0m\u001b[1;33m)\u001b[0m \u001b[1;33m-\u001b[0m \u001b[0minvert\u001b[0m\u001b[1;33m:\u001b[0m\u001b[1;33m\u001b[0m\u001b[1;33m\u001b[0m\u001b[0m\n\u001b[0;32m     96\u001b[0m                 raise RuntimeError('Config %s is not supported by backend %s'\n\u001b[1;32m---> 97\u001b[1;33m                                    % (key, app.backend_name))\n\u001b[0m\u001b[0;32m     98\u001b[0m \u001b[1;33m\u001b[0m\u001b[0m\n\u001b[0;32m     99\u001b[0m         \u001b[1;31m# Return items in sequence\u001b[0m\u001b[1;33m\u001b[0m\u001b[1;33m\u001b[0m\u001b[1;33m\u001b[0m\u001b[0m\n",
      "\u001b[1;31mRuntimeError\u001b[0m: Config vsync is not supported by backend ipynb_webgl"
     ]
    }
   ],
   "source": [
    "if __name__ == '__main__':\n",
    "    app = QApplication(sys.argv)\n",
    "    h = Harvester()\n",
    "    h.show()\n",
    "    sys.exit(app.exec_())"
   ]
  }
 ],
 "metadata": {
  "interpreter": {
   "hash": "470f2e9167e2936fbac882a96038ba41a36814f617a8e2939c33ec052462e22c"
  },
  "kernelspec": {
   "display_name": "Python 3.7.9 64-bit",
   "language": "python",
   "name": "python3"
  },
  "language_info": {
   "codemirror_mode": {
    "name": "ipython",
    "version": 3
   },
   "file_extension": ".py",
   "mimetype": "text/x-python",
   "name": "python",
   "nbconvert_exporter": "python",
   "pygments_lexer": "ipython3",
   "version": "3.7.9"
  },
  "orig_nbformat": 4
 },
 "nbformat": 4,
 "nbformat_minor": 2
}
