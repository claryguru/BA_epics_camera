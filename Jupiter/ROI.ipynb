{
 "cells": [
  {
   "cell_type": "markdown",
   "metadata": {},
   "source": [
    "# ROI\n",
    "manuell festgelegte ROI soll Punkte verfolgen\n",
    "\n",
    "- Bild laden\n",
    "- cut Roi \n",
    "- median_filter\n",
    "- label roi\n",
    "- check if nur 1 label\n",
    "- slice werte für object finden \n",
    "- Erweiterung festlegen\n",
    "- neue slice werte mit differncen berechnen \n",
    "- check new slides in roi? dann slicen, sonst message und roi neu um Mitte mit Abständen von manuell roi, double check ob object auch in neuer roi liegt \n",
    "\n",
    "Test: \n",
    "- mehrere ähnliche Bilder mit sich bewegenden Punkt speichern (siehe Camera.ipynb)\n",
    "- einzeln laden und vorher roi und nachher roi zeigen, etweder mit strichen oder cuts "
   ]
  },
  {
   "cell_type": "code",
   "execution_count": 2,
   "metadata": {},
   "outputs": [],
   "source": [
    "import numpy as np\n",
    "from matplotlib import pyplot as plt\n",
    "from scipy.ndimage import label, find_objects, median_filter, center_of_mass"
   ]
  },
  {
   "cell_type": "code",
   "execution_count": 3,
   "metadata": {},
   "outputs": [],
   "source": [
    "class Image:\n",
    "    def __init__(self,start_nr):\n",
    "        self.im_ar = self.load_im(start_nr)\n",
    "        self.im_shape = self.im_ar.shape\n",
    "\n",
    "    def load_im (self, nr):\n",
    "        filename = './test_roi/'+ str(nr) + 'test.npy'\n",
    "        with open(filename, 'rb') as f:\n",
    "            ar = np.load(f)\n",
    "        return ar\n",
    "    \n",
    "    def show(self):\n",
    "        print(self.im_shape)\n",
    "        plt.imshow(self.im_ar, cmap='gray')\n",
    "        plt.show()"
   ]
  },
  {
   "cell_type": "code",
   "execution_count": 4,
   "metadata": {},
   "outputs": [],
   "source": [
    "class ROI:\n",
    "    def __init__(self,xa,xe,ya,ye,im_ar):\n",
    "        self.manuel_roi = (slice(xa, xe, None), slice(ya, ye, None))\n",
    "        self.manuel_roi_x = (self.manuel_roi[0][0], self.manuel_roi[0][1])\n",
    "        self.manuel_roi_y = (self.manuel_roi[1][0], self.manuel_roi[1][1])\n",
    "        self.diff_x = abs(self.manuel_roi_x[0] - self.manuel_roi_x[1])\n",
    "        self.diff_y = abs(self.manuel_roi_y[0] - self.manuel_roi_y[1])\n",
    "        self.roi_ar = im_ar[self.manuel_roi]\n",
    "        self.roi_med_filt = None\n",
    "        self.roi_labeled = None\n",
    "        self.num_label = None\n",
    "    \n",
    "    def med_filter(self, size=2):\n",
    "        self.roi_med_filt = median_filter(self.roi_ar, size=size)\n",
    "\n",
    "    def labeled(self, schwellwert=70):\n",
    "        roi_filt = None\n",
    "        if self.roi_med_filt:\n",
    "            roi_filt = (self.roi_med_filt > schwellwert)\n",
    "        else:\n",
    "            print(\"labels were given without median filter\")\n",
    "            roi_filt = (self.roi_ar > schwellwert)\n",
    "\n",
    "        self.labeled, self.num_label = label(roi_filt)\n",
    "        \n",
    "    def new_roi (self, c_x, c_y):\n",
    "        #build new roi around center\n",
    "        pass\n",
    "\n",
    "    def show(self):\n",
    "        print(self.manuel_roi_x,self.manuel_roi_y)\n",
    "        plt.imshow(self.roi_ar, cmap='gray')\n",
    "        plt.show()\n",
    "        if self.roi_med_filt:\n",
    "            plt.imshow(self.roi_med_filt, cmap='gray')\n",
    "            plt.show()\n",
    "        if self.roi_labeled:\n",
    "            if self.num_label: print(self.num_label)\n",
    "            plt.imshow(self.roi_labeled, cmap='gray')\n",
    "            plt.show()\n",
    "\n",
    "\n"
   ]
  },
  {
   "cell_type": "code",
   "execution_count": 5,
   "metadata": {},
   "outputs": [],
   "source": [
    "class Licht_object:\n",
    "    def __init__(self, labeled_roi):\n",
    "        self.found_slices = find_objects(labeled_roi)[0]\n",
    "        self.x_e = self.found_slices[0][1]\n",
    "        self.x_a = self.found_slices[0][0]\n",
    "        self.y_e = self.found_slices[1][1]\n",
    "        self.y_a = self.found_slices[1][0]\n",
    "\n",
    "        self.new_slice = None\n",
    "        self.sliced_ar = None\n",
    "    \n",
    "    def erweitern(self, erweiterung, a, e, max, min=0):\n",
    "        a_neu = a - erweiterung\n",
    "        e_neu = e + erweiterung\n",
    "        if a_neu < min:\n",
    "            a_neu = min\n",
    "            print(\"Vorsicht Rand\")\n",
    "        if e_neu > max:\n",
    "            e_neu = max\n",
    "            print(\"Vorsicht Rand\")\n",
    "        return a_neu, e_neu\n",
    "    \n",
    "    # x und y mit gleichem Wert erweitern \n",
    "    def x_y_erweitern(self, erweiterung, x_a, x_e, y_a, y_e, max_x, max_y):\n",
    "        return (slice(self.erweitern(erweiterung,x_a, x_e, max_x), None), slice(self.erweitern(erweiterung,y_a, y_e, max_y), None))\n",
    "\n",
    "    # x und y mit gleichem Wert erweitern \n",
    "    def x_y_erweitern(self, erweiterung_x, erweiterung_y, x_a, x_e, y_a, y_e, max_x, max_y):\n",
    "        return (slice(self.erweitern(erweiterung_x,x_a, x_e, max_x), None), slice(self.erweitern(erweiterung_y,y_a, y_e, max_y), None))\n",
    "\n",
    "    #verschiedene varianten möglich, hier ein Vorschlag:\n",
    "    def erweiterung_berechnen_a(self, faktor):\n",
    "        dif_x = int (abs (self.x_e - self.x_a) * faktor)\n",
    "        dif_y = int (abs (self.y_e - self.y_a) * faktor)\n",
    "        return dif_x, dif_y\n",
    "    \n",
    "    def slice_ar(self,roi_ar, slice):\n",
    "        self.sliced_ar = roi_ar[slice]\n",
    "\n",
    "    def show(self):\n",
    "        print(self.found_slices)\n",
    "        print(self.new_slice)\n",
    "        plt.imshow(self.sliced_ar, cmap='gray')\n",
    "        plt.show()\n"
   ]
  },
  {
   "cell_type": "markdown",
   "metadata": {},
   "source": [
    "Main() Schritt für Schritt testen"
   ]
  },
  {
   "cell_type": "code",
   "execution_count": 6,
   "metadata": {},
   "outputs": [
    {
     "name": "stdout",
     "output_type": "stream",
     "text": [
      "(1456, 1936, 1)\n"
     ]
    },
    {
     "data": {
      "image/png": "[encoded data removed]",
      "text/plain": [
       "<Figure size 432x288 with 1 Axes>"
      ]
     },
     "metadata": {
      "needs_background": "light"
     },
     "output_type": "display_data"
    }
   ],
   "source": [
    "im = Image(1)\n",
    "im.show()"
   ]
  },
  {
   "cell_type": "code",
   "execution_count": 7,
   "metadata": {},
   "outputs": [
    {
     "ename": "TypeError",
     "evalue": "'slice' object is not subscriptable",
     "output_type": "error",
     "traceback": [
      "\u001b[1;31m---------------------------------------------------------------------------\u001b[0m",
      "\u001b[1;31mTypeError\u001b[0m                                 Traceback (most recent call last)",
      "\u001b[1;32md:\\HZB\\BA_epics_camera\\Jupiter\\ROI.ipynb Cell 8'\u001b[0m in \u001b[0;36m<module>\u001b[1;34m\u001b[0m\n\u001b[1;32m----> <a href='vscode-notebook-cell:/d%3A/HZB/BA_epics_camera/Jupiter/ROI.ipynb#ch0000007?line=0'>1</a>\u001b[0m roi \u001b[39m=\u001b[39m ROI(\u001b[39m20\u001b[39;49m,\u001b[39m20\u001b[39;49m,\u001b[39m20\u001b[39;49m,\u001b[39m20\u001b[39;49m,im\u001b[39m.\u001b[39;49mim_ar)\n\u001b[0;32m      <a href='vscode-notebook-cell:/d%3A/HZB/BA_epics_camera/Jupiter/ROI.ipynb#ch0000007?line=1'>2</a>\u001b[0m roi\u001b[39m.\u001b[39mshow()\n",
      "\u001b[1;32md:\\HZB\\BA_epics_camera\\Jupiter\\ROI.ipynb Cell 4'\u001b[0m in \u001b[0;36mROI.__init__\u001b[1;34m(self, xa, xe, ya, ye, im_ar)\u001b[0m\n\u001b[0;32m      <a href='vscode-notebook-cell:/d%3A/HZB/BA_epics_camera/Jupiter/ROI.ipynb#ch0000003?line=1'>2</a>\u001b[0m \u001b[39mdef\u001b[39;00m \u001b[39m__init__\u001b[39m(\u001b[39mself\u001b[39m,xa,xe,ya,ye,im_ar):\n\u001b[0;32m      <a href='vscode-notebook-cell:/d%3A/HZB/BA_epics_camera/Jupiter/ROI.ipynb#ch0000003?line=2'>3</a>\u001b[0m     \u001b[39mself\u001b[39m\u001b[39m.\u001b[39mmanuel_roi \u001b[39m=\u001b[39m (\u001b[39mslice\u001b[39m(xa, xe, \u001b[39mNone\u001b[39;00m), \u001b[39mslice\u001b[39m(ya, ye, \u001b[39mNone\u001b[39;00m))\n\u001b[1;32m----> <a href='vscode-notebook-cell:/d%3A/HZB/BA_epics_camera/Jupiter/ROI.ipynb#ch0000003?line=3'>4</a>\u001b[0m     \u001b[39mself\u001b[39m\u001b[39m.\u001b[39mmanuel_roi_x \u001b[39m=\u001b[39m (\u001b[39mself\u001b[39;49m\u001b[39m.\u001b[39;49mmanuel_roi[\u001b[39m0\u001b[39;49m][\u001b[39m0\u001b[39;49m], \u001b[39mself\u001b[39m\u001b[39m.\u001b[39mmanuel_roi[\u001b[39m0\u001b[39m][\u001b[39m1\u001b[39m])\n\u001b[0;32m      <a href='vscode-notebook-cell:/d%3A/HZB/BA_epics_camera/Jupiter/ROI.ipynb#ch0000003?line=4'>5</a>\u001b[0m     \u001b[39mself\u001b[39m\u001b[39m.\u001b[39mmanuel_roi_y \u001b[39m=\u001b[39m (\u001b[39mself\u001b[39m\u001b[39m.\u001b[39mmanuel_roi[\u001b[39m1\u001b[39m][\u001b[39m0\u001b[39m], \u001b[39mself\u001b[39m\u001b[39m.\u001b[39mmanuel_roi[\u001b[39m1\u001b[39m][\u001b[39m1\u001b[39m])\n\u001b[0;32m      <a href='vscode-notebook-cell:/d%3A/HZB/BA_epics_camera/Jupiter/ROI.ipynb#ch0000003?line=5'>6</a>\u001b[0m     \u001b[39mself\u001b[39m\u001b[39m.\u001b[39mdiff_x \u001b[39m=\u001b[39m \u001b[39mabs\u001b[39m(\u001b[39mself\u001b[39m\u001b[39m.\u001b[39mmanuel_roi_x[\u001b[39m0\u001b[39m] \u001b[39m-\u001b[39m \u001b[39mself\u001b[39m\u001b[39m.\u001b[39mmanuel_roi_x[\u001b[39m1\u001b[39m])\n",
      "\u001b[1;31mTypeError\u001b[0m: 'slice' object is not subscriptable"
     ]
    }
   ],
   "source": [
    "roi = ROI(20,20,20,20,im.im_ar)\n",
    "roi.show()"
   ]
  },
  {
   "cell_type": "code",
   "execution_count": null,
   "metadata": {},
   "outputs": [],
   "source": [
    "roi.med_filter()\n",
    "roi.labeled()\n",
    "roi.show()"
   ]
  },
  {
   "cell_type": "code",
   "execution_count": null,
   "metadata": {},
   "outputs": [],
   "source": [
    "if roi.num_label != 1:\n",
    "    print(\"hier ist was beim labeln schief gelaufen, vlt zu viele labeled areas\")"
   ]
  },
  {
   "cell_type": "code",
   "execution_count": null,
   "metadata": {},
   "outputs": [],
   "source": [
    "ob = Licht_object(roi.roi_labeled)\n",
    "ob.new_slice = ob.x_y_erweitern( 50, ob.x_a, ob.x_e, ob.y_a, ob.y_e, roi.manuel_roi_x, roi.manuel_roi_y)\n",
    "ob.slice_ar(roi.med_filter,ob.new_slice)\n",
    "ob.show()"
   ]
  }
 ],
 "metadata": {
  "kernelspec": {
   "display_name": "Python 3.10.0 64-bit",
   "language": "python",
   "name": "python3"
  },
  "language_info": {
   "codemirror_mode": {
    "name": "ipython",
    "version": 3
   },
   "file_extension": ".py",
   "mimetype": "text/x-python",
   "name": "python",
   "nbconvert_exporter": "python",
   "pygments_lexer": "ipython3",
   "version": "3.10.0"
  },
  "orig_nbformat": 4,
  "vscode": {
   "interpreter": {
    "hash": "369f2c481f4da34e4445cda3fffd2e751bd1c4d706f27375911949ba6bb62e1c"
   }
  }
 },
 "nbformat": 4,
 "nbformat_minor": 2
}
