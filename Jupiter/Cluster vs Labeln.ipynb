{
 "cells": [
  {
   "cell_type": "markdown",
   "metadata": {},
   "source": [
    "# Cluster vs. Labeln \n",
    "campare performance/efficiency from both Alg"
   ]
  },
  {
   "cell_type": "code",
   "execution_count": 14,
   "metadata": {},
   "outputs": [],
   "source": [
    "#Imports\n",
    "from matplotlib import pyplot as plt\n",
    "import numpy as np\n",
    "import cv2\n",
    "from scipy.ndimage import label, find_objects, median_filter\n",
    "from sklearn.cluster import KMeans"
   ]
  },
  {
   "cell_type": "code",
   "execution_count": 4,
   "metadata": {},
   "outputs": [
    {
     "name": "stdout",
     "output_type": "stream",
     "text": [
      "(1456, 1936)\n",
      "[[2 2 2 ... 2 2 2]\n",
      " [2 2 2 ... 2 2 2]\n",
      " [2 2 2 ... 2 2 2]\n",
      " ...\n",
      " [2 2 2 ... 3 2 2]\n",
      " [2 2 3 ... 2 2 2]\n",
      " [2 2 2 ... 2 3 2]]\n"
     ]
    },
    {
     "data": {
      "image/png": "[encoded data removed]",
      "text/plain": [
       "<Figure size 432x288 with 1 Axes>"
      ]
     },
     "metadata": {
      "needs_background": "light"
     },
     "output_type": "display_data"
    }
   ],
   "source": [
    "#Bild laden\n",
    "\n",
    "im = cv2.imread('D:\\\\HZB\\\\BA_epics_camera\\\\Testaufbau\\\\Versuch2\\\\Stoff_im_Gang_Tuch_vor_Handy.bmp')\n",
    "\n",
    "def rgb2gray(Img):\n",
    "    row,col,ch = Img.shape\n",
    "    g = [ ]  \n",
    "    for i in range(row) :\n",
    "        a = []\n",
    "        for j in range(col):\n",
    "            a.append(Img[i,j,0])\n",
    "        g.append(a)\n",
    "    gr = np.array(g)\n",
    "    return gr\n",
    "\n",
    "Im = rgb2gray(im)\n",
    "print(Im.shape)\n",
    "print(Im)\n",
    "plt.imshow(Im, cmap='gray')\n",
    "plt.show()"
   ]
  },
  {
   "cell_type": "markdown",
   "metadata": {},
   "source": [
    "Clustering"
   ]
  },
  {
   "cell_type": "code",
   "execution_count": 32,
   "metadata": {},
   "outputs": [
    {
     "name": "stdout",
     "output_type": "stream",
     "text": [
      "x (1456, 1936) [[   0    1    2 ... 1933 1934 1935]\n",
      " [   0    1    2 ... 1933 1934 1935]\n",
      " [   0    1    2 ... 1933 1934 1935]\n",
      " ...\n",
      " [   0    1    2 ... 1933 1934 1935]\n",
      " [   0    1    2 ... 1933 1934 1935]\n",
      " [   0    1    2 ... 1933 1934 1935]]\n",
      "y (1456, 1936) [[1455 1455 1455 ... 1455 1455 1455]\n",
      " [1454 1454 1454 ... 1454 1454 1454]\n",
      " [1453 1453 1453 ... 1453 1453 1453]\n",
      " ...\n",
      " [   2    2    2 ...    2    2    2]\n",
      " [   1    1    1 ...    1    1    1]\n",
      " [   0    0    0 ...    0    0    0]]\n",
      "[[0.00000000e+00 9.99313187e-01 2.00000000e+00]\n",
      " [5.16528926e-04 9.99313187e-01 2.00000000e+00]\n",
      " [1.03305785e-03 9.99313187e-01 2.00000000e+00]\n",
      " ...\n",
      " [9.98450413e-01 0.00000000e+00 2.00000000e+00]\n",
      " [9.98966942e-01 0.00000000e+00 3.00000000e+00]\n",
      " [9.99483471e-01 0.00000000e+00 2.00000000e+00]]\n"
     ]
    }
   ],
   "source": [
    "y_len, x_len = Im.shape[0], Im.shape[1] \n",
    "#print(x_len, y_len)\n",
    "x_werte = np.repeat(np.array([range(0,x_len)]), y_len, axis=0) \n",
    "print(\"x\", x_werte.shape, x_werte)\n",
    "#y-Werte entprechen dem mathematischen Koordinatensystem, nicht den Achsenbeschriftungen von der Grafik bisher\n",
    "y_werte = np.repeat(np.array([range(y_len-1, -1, -1)]).reshape(y_len,1), x_len, axis=1)\n",
    "print(\"y\", y_werte.shape, y_werte)\n",
    "\n",
    "#jeder Punkt jtz eine x, y- Koordinate und einen z-wert \n",
    "#Skalierung hier noch ausbaubar\n",
    "x_werte = np.array(x_werte.flatten(), dtype=np.float64) / x_len\n",
    "y_werte = np.array(y_werte.flatten(), dtype=np.float64) / y_len\n",
    "z_werte = np.array(Im.flatten(), dtype=np.float64) \n",
    "#print(x_werte)\n",
    "#print(y_werte)\n",
    "#print(z_werte)\n",
    "\n",
    "cluster_data = np.stack((x_werte, y_werte, z_werte), axis=-1)\n",
    "print(cluster_data)"
   ]
  },
  {
   "cell_type": "code",
   "execution_count": 30,
   "metadata": {},
   "outputs": [
    {
     "name": "stdout",
     "output_type": "stream",
     "text": [
      "[0 0 0 ... 0 0 0]\n"
     ]
    },
    {
     "data": {
      "image/png": "[encoded data removed]",
      "text/plain": [
       "<Figure size 432x288 with 1 Axes>"
      ]
     },
     "metadata": {
      "needs_background": "light"
     },
     "output_type": "display_data"
    }
   ],
   "source": [
    "def cluster_KMeans (np_a, n_cluster):\n",
    "    kmeans = KMeans(n_clusters=n_cluster, random_state=2)\n",
    "    kmeans_labels = kmeans.fit(np_a).labels_\n",
    "    return kmeans_labels\n",
    "\n",
    "cluster_result = cluster_KMeans(cluster_data, 2)\n",
    "print(cluster_result)\n",
    "\n",
    "final_cluster = cluster_result.reshape(Im.shape)\n",
    "plt.imshow(final_cluster)\n",
    "plt.show()"
   ]
  },
  {
   "cell_type": "markdown",
   "metadata": {},
   "source": [
    "Gedanken Cluster:\n",
    "- Clustering Alg nicht gleich Clustering Alg, vlt zwei schnellere CLustering Alg vergleichen\n",
    "- Problematik: # Culster finden\n",
    "- auch bei weniger Daten langsam? \n",
    "- Treffsicherheit gut?\n",
    "- Skalierung noch ausbaubar"
   ]
  }
 ],
 "metadata": {
  "kernelspec": {
   "display_name": "Python 3.9.1 64-bit",
   "language": "python",
   "name": "python3"
  },
  "language_info": {
   "codemirror_mode": {
    "name": "ipython",
    "version": 3
   },
   "file_extension": ".py",
   "mimetype": "text/x-python",
   "name": "python",
   "nbconvert_exporter": "python",
   "pygments_lexer": "ipython3",
   "version": "3.9.1"
  },
  "orig_nbformat": 4,
  "vscode": {
   "interpreter": {
    "hash": "ca05ebcb4bdf3468867211a585c7570f551873dac6cea58139d7b17b1c6a385b"
   }
  }
 },
 "nbformat": 4,
 "nbformat_minor": 2
}
