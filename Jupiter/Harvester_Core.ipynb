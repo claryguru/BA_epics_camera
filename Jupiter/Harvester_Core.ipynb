{
 "cells": [
  {
   "cell_type": "markdown",
   "metadata": {},
   "source": [
    "## Camera\n",
    "\n",
    "Test harvest core lib \n",
    "\n",
    "- connect to Camera\n",
    "- get Temperature\n",
    "- get image as numpy "
   ]
  },
  {
   "cell_type": "markdown",
   "metadata": {},
   "source": [
    "### Installation\n",
    "geht nur mit max. python 3.8 Kernel "
   ]
  },
  {
   "cell_type": "code",
   "execution_count": 1,
   "metadata": {},
   "outputs": [
    {
     "name": "stdout",
     "output_type": "stream",
     "text": [
      "Requirement already satisfied: harvesters in c:\\users\\qdf\\appdata\\local\\programs\\python\\python38\\lib\\site-packages (1.3.8)\n",
      "Requirement already satisfied: genicam<1.2 in c:\\users\\qdf\\appdata\\local\\programs\\python\\python38\\lib\\site-packages (from harvesters) (1.1.0)\n",
      "Requirement already satisfied: numpy in c:\\users\\qdf\\appdata\\local\\programs\\python\\python38\\lib\\site-packages (from harvesters) (1.22.3)\n"
     ]
    },
    {
     "name": "stderr",
     "output_type": "stream",
     "text": [
      "WARNING: You are using pip version 20.2.1; however, version 22.1.1 is available.\n",
      "You should consider upgrading via the 'c:\\Users\\qdf\\AppData\\Local\\Programs\\Python\\Python38\\python.exe -m pip install --upgrade pip' command.\n"
     ]
    }
   ],
   "source": [
    "#einmalig ausführen \n",
    "!{sys.executable} -m pip install harvesters"
   ]
  },
  {
   "cell_type": "code",
   "execution_count": 2,
   "metadata": {},
   "outputs": [],
   "source": [
    "from harvesters.core import Harvester\n",
    "import numpy as np"
   ]
  },
  {
   "cell_type": "markdown",
   "metadata": {},
   "source": [
    "connect driver"
   ]
  },
  {
   "cell_type": "code",
   "execution_count": 3,
   "metadata": {},
   "outputs": [
    {
     "data": {
      "text/plain": [
       "[{'access_status': 1, 'display_name': 'GT1920', 'id_': 'DEV_000F31024A32', 'model': 'GT1920 (02-2610A)', 'parent': <genicam.gentl.Interface; proxy of <Swig Object of type 'std::shared_ptr< GenTLCpp::TLInterface > *' at 0x000001DB1F801D20> >, 'serial_number': '02-2610A-07136', 'tl_type': 'GEV', 'user_defined_name': None, 'vendor': 'Allied Vision Technologies', 'version': None}]"
      ]
     },
     "execution_count": 3,
     "metadata": {},
     "output_type": "execute_result"
    }
   ],
   "source": [
    "h = Harvester()\n",
    "#trying out other allied vision drivers:\n",
    "#h.add_file('C:\\\\Program Files\\\\Allied Vision\\\\Vimba_6.0\\\\VimbaCLConfigTL\\\\Bin\\\\Win64\\\\VimbaCLConfigTL.cti'\n",
    "\n",
    "#thats the one working:\n",
    "h.add_file('C:\\\\Program Files\\\\Allied Vision\\\\Vimba_6.0\\\\VimbaGigETL\\\\Bin\\\\Win64\\\\VimbaGigETL.cti')\n",
    "h.update()\n",
    "h.device_info_list"
   ]
  },
  {
   "cell_type": "markdown",
   "metadata": {},
   "source": [
    "connect to specific camera (getting ownership of target device)\n",
    "Fehler -1009: Kamera vielleicht woanders geöffnet?"
   ]
  },
  {
   "cell_type": "code",
   "execution_count": 4,
   "metadata": {},
   "outputs": [
    {
     "data": {
      "text/plain": [
       "['Acquisition',\n",
       " 'AcquisitionAbort',\n",
       " 'AcquisitionFrameCount',\n",
       " 'AcquisitionFrameRateAbs',\n",
       " 'AcquisitionFrameRateLimit',\n",
       " 'AcquisitionMode',\n",
       " 'AcquisitionStart',\n",
       " 'AcquisitionStop',\n",
       " 'BalanceRatioAbs',\n",
       " 'BalanceRatioSelector',\n",
       " 'BalanceWhiteAuto',\n",
       " 'BalanceWhiteAutoAdjustTol',\n",
       " 'BalanceWhiteAutoControl',\n",
       " 'BalanceWhiteAutoRate',\n",
       " 'BandwidthControlMode',\n",
       " 'BinningHorizontal',\n",
       " 'BinningVertical',\n",
       " 'BlackLevel',\n",
       " 'BlackLevelControl',\n",
       " 'BlackLevelSelector',\n",
       " 'ChunkModeActive',\n",
       " 'ColorTransformationControl',\n",
       " 'ColorTransformationMode',\n",
       " 'ColorTransformationSelector',\n",
       " 'ColorTransformationValue',\n",
       " 'ColorTransformationValueSelector',\n",
       " 'Controls',\n",
       " 'DSPSubregion',\n",
       " 'DSPSubregionBottom',\n",
       " 'DSPSubregionLeft',\n",
       " 'DSPSubregionRight',\n",
       " 'DSPSubregionTop',\n",
       " 'DecimationHorizontal',\n",
       " 'DecimationVertical',\n",
       " 'DefectMask',\n",
       " 'DefectMaskColumnEnable',\n",
       " 'DefectMaskPixelEnable',\n",
       " 'DeviceFirmwareVersion',\n",
       " 'DeviceID',\n",
       " 'DeviceModelName',\n",
       " 'DevicePartNumber',\n",
       " 'DeviceScanType',\n",
       " 'DeviceStatus',\n",
       " 'DeviceTemperature',\n",
       " 'DeviceTemperatureSelector',\n",
       " 'DeviceVendorName',\n",
       " 'EventAcquisitionEnd',\n",
       " 'EventAcquisitionRecordTrigger',\n",
       " 'EventAcquisitionStart',\n",
       " 'EventControl',\n",
       " 'EventError',\n",
       " 'EventExposureEnd',\n",
       " 'EventFrameTrigger',\n",
       " 'EventFrameTriggerReady',\n",
       " 'EventID',\n",
       " 'EventLine1FallingEdge',\n",
       " 'EventLine1RisingEdge',\n",
       " 'EventLine2FallingEdge',\n",
       " 'EventLine2RisingEdge',\n",
       " 'EventLine3FallingEdge',\n",
       " 'EventLine3RisingEdge',\n",
       " 'EventLine4FallingEdge',\n",
       " 'EventLine4RisingEdge',\n",
       " 'EventNotification',\n",
       " 'EventOverflow',\n",
       " 'EventPtpSyncLocked',\n",
       " 'EventPtpSyncLost',\n",
       " 'EventSelector',\n",
       " 'EventsEnable1',\n",
       " 'Exposure',\n",
       " 'ExposureAuto',\n",
       " 'ExposureAutoAdjustTol',\n",
       " 'ExposureAutoAlg',\n",
       " 'ExposureAutoControl',\n",
       " 'ExposureAutoMax',\n",
       " 'ExposureAutoMin',\n",
       " 'ExposureAutoOutliers',\n",
       " 'ExposureAutoRate',\n",
       " 'ExposureAutoTarget',\n",
       " 'ExposureMode',\n",
       " 'ExposureTimeAbs',\n",
       " 'FirmwareVerBuild',\n",
       " 'FirmwareVerMajor',\n",
       " 'FirmwareVerMinor',\n",
       " 'Gain',\n",
       " 'GainAuto',\n",
       " 'GainAutoAdjustTol',\n",
       " 'GainAutoControl',\n",
       " 'GainAutoMax',\n",
       " 'GainAutoMin',\n",
       " 'GainAutoOutliers',\n",
       " 'GainAutoRate',\n",
       " 'GainAutoTarget',\n",
       " 'GainControl',\n",
       " 'GainSelector',\n",
       " 'Gamma',\n",
       " 'GevSCPSPacketSize',\n",
       " 'GevTimestampControlLatch',\n",
       " 'GevTimestampControlReset',\n",
       " 'GevTimestampTickFrequency',\n",
       " 'GevTimestampValue',\n",
       " 'GigE',\n",
       " 'Height',\n",
       " 'HeightMax',\n",
       " 'Hue',\n",
       " 'IO',\n",
       " 'ImageFormat',\n",
       " 'ImageMode',\n",
       " 'ImageSize',\n",
       " 'Info',\n",
       " 'Iris',\n",
       " 'IrisAutoTarget',\n",
       " 'IrisMode',\n",
       " 'IrisVideoLevel',\n",
       " 'IrisVideoLevelMax',\n",
       " 'IrisVideoLevelMin',\n",
       " 'LUTAddress',\n",
       " 'LUTBitDepthIn',\n",
       " 'LUTBitDepthOut',\n",
       " 'LUTControl',\n",
       " 'LUTEnable',\n",
       " 'LUTIndex',\n",
       " 'LUTInfo',\n",
       " 'LUTLoad',\n",
       " 'LUTMode',\n",
       " 'LUTRestore',\n",
       " 'LUTSave',\n",
       " 'LUTSelector',\n",
       " 'LUTSizeBytes',\n",
       " 'LUTValue',\n",
       " 'LensDCDriveStrength',\n",
       " 'LensDCIris',\n",
       " 'LensPIris',\n",
       " 'LensPIrisFrequency',\n",
       " 'LensPIrisNumSteps',\n",
       " 'LensPIrisPosition',\n",
       " 'NonImagePayloadSize',\n",
       " 'OffsetX',\n",
       " 'OffsetY',\n",
       " 'PTP',\n",
       " 'PayloadSize',\n",
       " 'PixelFormat',\n",
       " 'PtpAcquisitionGateTime',\n",
       " 'PtpMode',\n",
       " 'PtpStatus',\n",
       " 'RecorderPreEventCount',\n",
       " 'Root',\n",
       " 'Saturation',\n",
       " 'SavedUserSets',\n",
       " 'SensorBits',\n",
       " 'SensorHeight',\n",
       " 'SensorType',\n",
       " 'SensorWidth',\n",
       " 'StreamBytesPerSecond',\n",
       " 'StreamFrameRateConstrain',\n",
       " 'StreamHold',\n",
       " 'StreamHoldCapacity',\n",
       " 'StreamHoldEnable',\n",
       " 'Strobe',\n",
       " 'StrobeDelay',\n",
       " 'StrobeDuration',\n",
       " 'StrobeDurationMode',\n",
       " 'StrobeSource',\n",
       " 'SubstrateVoltage',\n",
       " 'SyncIn',\n",
       " 'SyncInGlitchFilter',\n",
       " 'SyncInLevels',\n",
       " 'SyncInSelector',\n",
       " 'SyncOut',\n",
       " 'SyncOutLevels',\n",
       " 'SyncOutPolarity',\n",
       " 'SyncOutSelector',\n",
       " 'SyncOutSource',\n",
       " 'Timestamp',\n",
       " 'Trigger',\n",
       " 'TriggerActivation',\n",
       " 'TriggerDelayAbs',\n",
       " 'TriggerMode',\n",
       " 'TriggerOverlap',\n",
       " 'TriggerSelector',\n",
       " 'TriggerSoftware',\n",
       " 'TriggerSource',\n",
       " 'UserSetDefaultSelector',\n",
       " 'UserSetLoad',\n",
       " 'UserSetSave',\n",
       " 'UserSetSelector',\n",
       " 'VsubValue',\n",
       " 'Whitebalance',\n",
       " 'Width',\n",
       " 'WidthMax',\n",
       " '__class__',\n",
       " '__del__',\n",
       " '__delattr__',\n",
       " '__dict__',\n",
       " '__dir__',\n",
       " '__doc__',\n",
       " '__enter__',\n",
       " '__eq__',\n",
       " '__exit__',\n",
       " '__format__',\n",
       " '__ge__',\n",
       " '__getattr__',\n",
       " '__getattribute__',\n",
       " '__gt__',\n",
       " '__hash__',\n",
       " '__init__',\n",
       " '__init_subclass__',\n",
       " '__le__',\n",
       " '__lt__',\n",
       " '__module__',\n",
       " '__ne__',\n",
       " '__new__',\n",
       " '__reduce__',\n",
       " '__reduce_ex__',\n",
       " '__repr__',\n",
       " '__setattr__',\n",
       " '__sizeof__',\n",
       " '__str__',\n",
       " '__subclasshook__',\n",
       " '__swig_destroy__',\n",
       " '__swig_getmethods__',\n",
       " '__swig_setmethods__',\n",
       " '__weakref__',\n",
       " '_concrete_port',\n",
       " '_connect',\n",
       " '_destroy',\n",
       " '_get_device_info',\n",
       " '_get_device_name',\n",
       " '_get_node',\n",
       " '_get_nodes',\n",
       " '_invalidate_nodes',\n",
       " 'clear_xml_cache',\n",
       " 'connect',\n",
       " 'device_info',\n",
       " 'disconnect',\n",
       " 'get_node',\n",
       " 'has_node',\n",
       " 'load_xml_from_file',\n",
       " 'load_xml_from_string',\n",
       " 'load_xml_from_zip_file',\n",
       " 'nodes',\n",
       " 'pointer',\n",
       " 'poll',\n",
       " 'this']"
      ]
     },
     "execution_count": 4,
     "metadata": {},
     "output_type": "execute_result"
    }
   ],
   "source": [
    "ia = h.create() #ia: ImageAquirer Object\n",
    "dir(ia.remote_device.node_map)"
   ]
  },
  {
   "cell_type": "code",
   "execution_count": 5,
   "metadata": {},
   "outputs": [
    {
     "name": "stdout",
     "output_type": "stream",
     "text": [
      "1e-06\n",
      "Off\n",
      "Continuous\n",
      "Timed\n",
      "8\n",
      "1936\n",
      "300.0\n",
      "46.03099822998047\n"
     ]
    }
   ],
   "source": [
    "print(ia.sleep_duration)\n",
    "print(ia.remote_device.node_map.TriggerMode.value)\n",
    "print(ia.remote_device.node_map.AcquisitionMode.value)\n",
    "print(ia.remote_device.node_map.ExposureMode.value)\n",
    "#ia.remote_device.node_map.ExposureTimeAbs.value = 1500\n",
    "print(ia.remote_device.node_map.Width.value)\n",
    "print(ia.remote_device.node_map.WidthMax.value)\n",
    "print(ia.remote_device.node_map.ExposureTimeAbs.value)\n",
    "print(ia.remote_device.node_map.DeviceTemperature.value)"
   ]
  },
  {
   "cell_type": "markdown",
   "metadata": {},
   "source": [
    "aquire images"
   ]
  },
  {
   "cell_type": "code",
   "execution_count": 6,
   "metadata": {},
   "outputs": [
    {
     "ename": "KeyboardInterrupt",
     "evalue": "",
     "output_type": "error",
     "traceback": [
      "\u001b[1;31m---------------------------------------------------------------------------\u001b[0m",
      "\u001b[1;31mTimeoutException\u001b[0m                          Traceback (most recent call last)",
      "File \u001b[1;32mc:\\Users\\qdf\\AppData\\Local\\Programs\\Python\\Python38\\lib\\site-packages\\harvesters\\core.py:2266\u001b[0m, in \u001b[0;36mImageAcquirer._fetch\u001b[1;34m(self, manager, timeout_on_client_fetch_call, throw_except)\u001b[0m\n\u001b[0;32m   <a href='file:///c%3A/Users/qdf/AppData/Local/Programs/Python/Python38/lib/site-packages/harvesters/core.py?line=2264'>2265</a>\u001b[0m \u001b[39mtry\u001b[39;00m:\n\u001b[1;32m-> <a href='file:///c%3A/Users/qdf/AppData/Local/Programs/Python/Python38/lib/site-packages/harvesters/core.py?line=2265'>2266</a>\u001b[0m     manager\u001b[39m.\u001b[39;49mupdate_event_data(\u001b[39mself\u001b[39;49m\u001b[39m.\u001b[39;49mtimeout_period_on_update_event_data_call)\n\u001b[0;32m   <a href='file:///c%3A/Users/qdf/AppData/Local/Programs/Python/Python38/lib/site-packages/harvesters/core.py?line=2266'>2267</a>\u001b[0m \u001b[39mexcept\u001b[39;00m TimeoutException:\n",
      "File \u001b[1;32mc:\\Users\\qdf\\AppData\\Local\\Programs\\Python\\Python38\\lib\\site-packages\\genicam\\gentl.py:1458\u001b[0m, in \u001b[0;36mEventManagerNewBuffer.update_event_data\u001b[1;34m(self, timeout)\u001b[0m\n\u001b[0;32m   <a href='file:///c%3A/Users/qdf/AppData/Local/Programs/Python/Python38/lib/site-packages/genicam/gentl.py?line=1446'>1447</a>\u001b[0m \u001b[39m\"\"\"\u001b[39;00m\n\u001b[0;32m   <a href='file:///c%3A/Users/qdf/AppData/Local/Programs/Python/Python38/lib/site-packages/genicam/gentl.py?line=1447'>1448</a>\u001b[0m \n\u001b[0;32m   <a href='file:///c%3A/Users/qdf/AppData/Local/Programs/Python/Python38/lib/site-packages/genicam/gentl.py?line=1448'>1449</a>\u001b[0m \u001b[39mUpdates its event data. Having called this method, its event data that is provided through its properties are overwritten with the latest one.\u001b[39;00m\n\u001b[1;32m   (...)\u001b[0m\n\u001b[0;32m   <a href='file:///c%3A/Users/qdf/AppData/Local/Programs/Python/Python38/lib/site-packages/genicam/gentl.py?line=1455'>1456</a>\u001b[0m \n\u001b[0;32m   <a href='file:///c%3A/Users/qdf/AppData/Local/Programs/Python/Python38/lib/site-packages/genicam/gentl.py?line=1456'>1457</a>\u001b[0m \u001b[39m\"\"\"\u001b[39;00m\n\u001b[1;32m-> <a href='file:///c%3A/Users/qdf/AppData/Local/Programs/Python/Python38/lib/site-packages/genicam/gentl.py?line=1457'>1458</a>\u001b[0m \u001b[39mreturn\u001b[39;00m _gentl\u001b[39m.\u001b[39;49mEventManagerNewBuffer_update_event_data(\u001b[39mself\u001b[39;49m, timeout)\n",
      "\u001b[1;31mTimeoutException\u001b[0m: GenTL exception: Operation timed out before completion. (Message from the source: An operation's timeout time expired) (ID: -1011)",
      "\nDuring handling of the above exception, another exception occurred:\n",
      "\u001b[1;31mKeyboardInterrupt\u001b[0m                         Traceback (most recent call last)",
      "\u001b[1;32md:\\HZB\\BA_epics_camera\\Jupiter\\Harvester_Core.ipynb Cell 11'\u001b[0m in \u001b[0;36m<cell line: 7>\u001b[1;34m()\u001b[0m\n\u001b[0;32m      <a href='vscode-notebook-cell:/d%3A/HZB/BA_epics_camera/Jupiter/Harvester_Core.ipynb#ch0000010?line=4'>5</a>\u001b[0m ia\u001b[39m.\u001b[39mremote_device\u001b[39m.\u001b[39mnode_map\u001b[39m.\u001b[39mHeight\u001b[39m.\u001b[39mvalue \u001b[39m=\u001b[39m \u001b[39m8\u001b[39m \u001b[39m#ia.remote_device.node_map.HeightMax.value\u001b[39;00m\n\u001b[0;32m      <a href='vscode-notebook-cell:/d%3A/HZB/BA_epics_camera/Jupiter/Harvester_Core.ipynb#ch0000010?line=5'>6</a>\u001b[0m ia\u001b[39m.\u001b[39mstart()\n\u001b[1;32m----> <a href='vscode-notebook-cell:/d%3A/HZB/BA_epics_camera/Jupiter/Harvester_Core.ipynb#ch0000010?line=6'>7</a>\u001b[0m \u001b[39mwith\u001b[39;00m ia\u001b[39m.\u001b[39;49mfetch() \u001b[39mas\u001b[39;00m buffer: \u001b[39m#ImageAcquirer.fetch() without a time-out value means the function call waits until a buffer is filled up with an image\u001b[39;00m\n\u001b[0;32m      <a href='vscode-notebook-cell:/d%3A/HZB/BA_epics_camera/Jupiter/Harvester_Core.ipynb#ch0000010?line=7'>8</a>\u001b[0m     component \u001b[39m=\u001b[39m buffer\u001b[39m.\u001b[39mpayload\u001b[39m.\u001b[39mcomponents[\u001b[39m0\u001b[39m]\n\u001b[0;32m      <a href='vscode-notebook-cell:/d%3A/HZB/BA_epics_camera/Jupiter/Harvester_Core.ipynb#ch0000010?line=8'>9</a>\u001b[0m     oneD \u001b[39m=\u001b[39m component\u001b[39m.\u001b[39mdata\n",
      "File \u001b[1;32mc:\\Users\\qdf\\AppData\\Local\\Programs\\Python\\Python38\\lib\\site-packages\\harvesters\\core.py:2384\u001b[0m, in \u001b[0;36mImageAcquirer.fetch\u001b[1;34m(self, timeout, is_raw, cycle_s)\u001b[0m\n\u001b[0;32m   <a href='file:///c%3A/Users/qdf/AppData/Local/Programs/Python/Python38/lib/site-packages/harvesters/core.py?line=2381'>2382</a>\u001b[0m             time\u001b[39m.\u001b[39msleep(cycle_s \u001b[39mif\u001b[39;00m cycle_s \u001b[39melse\u001b[39;00m \u001b[39m0.0001\u001b[39m)\n\u001b[0;32m   <a href='file:///c%3A/Users/qdf/AppData/Local/Programs/Python/Python38/lib/site-packages/harvesters/core.py?line=2382'>2383</a>\u001b[0m     \u001b[39melse\u001b[39;00m:\n\u001b[1;32m-> <a href='file:///c%3A/Users/qdf/AppData/Local/Programs/Python/Python38/lib/site-packages/harvesters/core.py?line=2383'>2384</a>\u001b[0m         raw_buffer \u001b[39m=\u001b[39m \u001b[39mself\u001b[39;49m\u001b[39m.\u001b[39;49m_fetch(\n\u001b[0;32m   <a href='file:///c%3A/Users/qdf/AppData/Local/Programs/Python/Python38/lib/site-packages/harvesters/core.py?line=2384'>2385</a>\u001b[0m             manager\u001b[39m=\u001b[39;49m\u001b[39mself\u001b[39;49m\u001b[39m.\u001b[39;49m_event_new_buffer_managers[\u001b[39m0\u001b[39;49m],\n\u001b[0;32m   <a href='file:///c%3A/Users/qdf/AppData/Local/Programs/Python/Python38/lib/site-packages/harvesters/core.py?line=2385'>2386</a>\u001b[0m             timeout_on_client_fetch_call\u001b[39m=\u001b[39;49mtimeout, throw_except\u001b[39m=\u001b[39;49m\u001b[39mTrue\u001b[39;49;00m)\n\u001b[0;32m   <a href='file:///c%3A/Users/qdf/AppData/Local/Programs/Python/Python38/lib/site-packages/harvesters/core.py?line=2386'>2387</a>\u001b[0m         buffer \u001b[39m=\u001b[39m \u001b[39mself\u001b[39m\u001b[39m.\u001b[39m_finalize_fetching_process(raw_buffer, is_raw)\n\u001b[0;32m   <a href='file:///c%3A/Users/qdf/AppData/Local/Programs/Python/Python38/lib/site-packages/harvesters/core.py?line=2388'>2389</a>\u001b[0m \u001b[39mreturn\u001b[39;00m buffer\n",
      "File \u001b[1;32mc:\\Users\\qdf\\AppData\\Local\\Programs\\Python\\Python38\\lib\\site-packages\\harvesters\\core.py:2267\u001b[0m, in \u001b[0;36mImageAcquirer._fetch\u001b[1;34m(self, manager, timeout_on_client_fetch_call, throw_except)\u001b[0m\n\u001b[0;32m   <a href='file:///c%3A/Users/qdf/AppData/Local/Programs/Python/Python38/lib/site-packages/harvesters/core.py?line=2264'>2265</a>\u001b[0m \u001b[39mtry\u001b[39;00m:\n\u001b[0;32m   <a href='file:///c%3A/Users/qdf/AppData/Local/Programs/Python/Python38/lib/site-packages/harvesters/core.py?line=2265'>2266</a>\u001b[0m     manager\u001b[39m.\u001b[39mupdate_event_data(\u001b[39mself\u001b[39m\u001b[39m.\u001b[39mtimeout_period_on_update_event_data_call)\n\u001b[1;32m-> <a href='file:///c%3A/Users/qdf/AppData/Local/Programs/Python/Python38/lib/site-packages/harvesters/core.py?line=2266'>2267</a>\u001b[0m \u001b[39mexcept\u001b[39;00m TimeoutException:\n\u001b[0;32m   <a href='file:///c%3A/Users/qdf/AppData/Local/Programs/Python/Python38/lib/site-packages/harvesters/core.py?line=2267'>2268</a>\u001b[0m     \u001b[39mcontinue\u001b[39;00m\n\u001b[0;32m   <a href='file:///c%3A/Users/qdf/AppData/Local/Programs/Python/Python38/lib/site-packages/harvesters/core.py?line=2268'>2269</a>\u001b[0m \u001b[39mexcept\u001b[39;00m GenTL_GenericException \u001b[39mas\u001b[39;00m e:\n",
      "\u001b[1;31mKeyboardInterrupt\u001b[0m: "
     ]
    }
   ],
   "source": [
    "ia.remote_device.node_map.PixelFormat.value = 'Mono8'\n",
    "ia.remote_device.node_map.ExposureTimeAbs.value = 300\n",
    "ia.remote_device.node_map.TriggerMode.value = 'Off'\n",
    "ia.remote_device.node_map.Width.value = 8 #ia.remote_device.node_map.WidthMax.value\n",
    "ia.remote_device.node_map.Height.value = 8 #ia.remote_device.node_map.HeightMax.value\n",
    "ia.start()\n",
    "with ia.fetch() as buffer: #ImageAcquirer.fetch() without a time-out value means the function call waits until a buffer is filled up with an image\n",
    "    component = buffer.payload.components[0]\n",
    "    oneD = component.data\n",
    "    print('1D: {0}'.format(oneD))\n",
    "   # Reshape the NumPy array into a 2D array:\n",
    "    twoD = component.data.reshape(component.height, component.width)\n",
    "    print('2D: {0}'.format(twoD))\n",
    "\n",
    "\n"
   ]
  },
  {
   "cell_type": "code",
   "execution_count": null,
   "metadata": {},
   "outputs": [],
   "source": [
    "# ia.stop()\n",
    "#ia.destroy()\n",
    "#h.reset()\n"
   ]
  }
 ],
 "metadata": {
  "interpreter": {
   "hash": "21cdb3d66a79be0d12f18a612bc6848bce6e6021fd7c7a84cd75a81a3dc22510"
  },
  "kernelspec": {
   "display_name": "Python 3.8.6 64-bit",
   "language": "python",
   "name": "python3"
  },
  "language_info": {
   "codemirror_mode": {
    "name": "ipython",
    "version": 3
   },
   "file_extension": ".py",
   "mimetype": "text/x-python",
   "name": "python",
   "nbconvert_exporter": "python",
   "pygments_lexer": "ipython3",
   "version": "3.8.6"
  },
  "orig_nbformat": 4
 },
 "nbformat": 4,
 "nbformat_minor": 2
}
