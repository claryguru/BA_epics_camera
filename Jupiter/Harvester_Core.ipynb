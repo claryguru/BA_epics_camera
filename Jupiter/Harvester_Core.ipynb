{
 "cells": [
  {
   "cell_type": "markdown",
   "metadata": {},
   "source": [
    "## Camera\n",
    "\n",
    "Test harvest core lib "
   ]
  },
  {
   "cell_type": "markdown",
   "metadata": {},
   "source": [
    "### Installation\n",
    "geht nur mit max. python 3.8 Kernel"
   ]
  },
  {
   "cell_type": "code",
   "execution_count": 1,
   "metadata": {},
   "outputs": [],
   "source": [
    "#einmalig ausführen \n",
    "#!{sys.executable} -m pip install harvesters"
   ]
  },
  {
   "cell_type": "code",
   "execution_count": 2,
   "metadata": {},
   "outputs": [],
   "source": [
    "from harvesters.core import Harvester\n",
    "import numpy as np"
   ]
  },
  {
   "cell_type": "markdown",
   "metadata": {},
   "source": [
    "connect driver"
   ]
  },
  {
   "cell_type": "code",
   "execution_count": 3,
   "metadata": {},
   "outputs": [
    {
     "data": {
      "text/plain": [
       "[{'access_status': 1, 'display_name': 'GT1920', 'id_': 'DEV_000F31024A32', 'model': 'GT1920 (02-2610A)', 'parent': <genicam.gentl.Interface; proxy of <Swig Object of type 'std::shared_ptr< GenTLCpp::TLInterface > *' at 0x000001E191560C30> >, 'serial_number': '02-2610A-07136', 'tl_type': 'GEV', 'user_defined_name': None, 'vendor': 'Allied Vision Technologies', 'version': None}]"
      ]
     },
     "execution_count": 3,
     "metadata": {},
     "output_type": "execute_result"
    }
   ],
   "source": [
    "h = Harvester()\n",
    "#trying out other allied vision drivers:\n",
    "#h.add_file('C:\\\\Program Files\\\\Allied Vision\\\\Vimba_6.0\\\\VimbaCLConfigTL\\\\Bin\\\\Win64\\\\VimbaCLConfigTL.cti'\n",
    "\n",
    "#thats the one working:\n",
    "h.add_file('C:\\\\Program Files\\\\Allied Vision\\\\Vimba_6.0\\\\VimbaGigETL\\\\Bin\\\\Win64\\\\VimbaGigETL.cti')\n",
    "h.update()\n",
    "h.device_info_list"
   ]
  },
  {
   "cell_type": "markdown",
   "metadata": {},
   "source": [
    "connect to specific camera (getting ownership of target device)"
   ]
  },
  {
   "cell_type": "code",
   "execution_count": 4,
   "metadata": {},
   "outputs": [],
   "source": [
    "#ia = h.create(0) #ia: ImageAquirer Object\n",
    "#print(DeviceInfo.search_keys)"
   ]
  },
  {
   "cell_type": "markdown",
   "metadata": {},
   "source": [
    "aquire images"
   ]
  },
  {
   "cell_type": "code",
   "execution_count": 5,
   "metadata": {},
   "outputs": [
    {
     "name": "stderr",
     "output_type": "stream",
     "text": [
      "2022-05-20 17:13:09,788 :: harvesters.core :: ERROR :: GenTL exception: Given handle does not support the operation. (Message from the source: Given handle is invalid (for the requested operation)) (ID: -1006)\n",
      "Traceback (most recent call last):\n",
      "  File \"c:\\Users\\qdf\\AppData\\Local\\Programs\\Python\\Python38\\lib\\site-packages\\harvesters\\core.py\", line 2266, in _fetch\n",
      "    manager.update_event_data(self.timeout_period_on_update_event_data_call)\n",
      "  File \"c:\\Users\\qdf\\AppData\\Local\\Programs\\Python\\Python38\\lib\\site-packages\\genicam\\gentl.py\", line 1458, in update_event_data\n",
      "    return _gentl.EventManagerNewBuffer_update_event_data(self, timeout)\n",
      "_gentl.InvalidHandleException: GenTL exception: Given handle does not support the operation. (Message from the source: Given handle is invalid (for the requested operation)) (ID: -1006)\n"
     ]
    },
    {
     "ename": "InvalidHandleException",
     "evalue": "GenTL exception: Given handle does not support the operation. (Message from the source: Given handle is invalid (for the requested operation)) (ID: -1006)",
     "output_type": "error",
     "traceback": [
      "\u001b[1;31m---------------------------------------------------------------------------\u001b[0m",
      "\u001b[1;31mInvalidHandleException\u001b[0m                    Traceback (most recent call last)",
      "\u001b[1;32md:\\HZB\\Bachelor\\git-clone\\bachelor\\Jupiter\\Harvester_Core.ipynb Cell 10'\u001b[0m in \u001b[0;36m<cell line: 1>\u001b[1;34m()\u001b[0m\n\u001b[0;32m      <a href='vscode-notebook-cell:/d%3A/HZB/Bachelor/git-clone/bachelor/Jupiter/Harvester_Core.ipynb#ch0000011?line=0'>1</a>\u001b[0m \u001b[39mwith\u001b[39;00m h\u001b[39m.\u001b[39mcreate(\u001b[39m0\u001b[39m) \u001b[39mas\u001b[39;00m ib:\n\u001b[1;32m----> <a href='vscode-notebook-cell:/d%3A/HZB/Bachelor/git-clone/bachelor/Jupiter/Harvester_Core.ipynb#ch0000011?line=1'>2</a>\u001b[0m     bild \u001b[39m=\u001b[39m ib\u001b[39m.\u001b[39;49mfetch()\n\u001b[0;32m      <a href='vscode-notebook-cell:/d%3A/HZB/Bachelor/git-clone/bachelor/Jupiter/Harvester_Core.ipynb#ch0000011?line=2'>3</a>\u001b[0m     \u001b[39mprint\u001b[39m(bild)\n",
      "File \u001b[1;32mc:\\Users\\qdf\\AppData\\Local\\Programs\\Python\\Python38\\lib\\site-packages\\harvesters\\core.py:2384\u001b[0m, in \u001b[0;36mImageAcquirer.fetch\u001b[1;34m(self, timeout, is_raw, cycle_s)\u001b[0m\n\u001b[0;32m   <a href='file:///c%3A/Users/qdf/AppData/Local/Programs/Python/Python38/lib/site-packages/harvesters/core.py?line=2381'>2382</a>\u001b[0m             time\u001b[39m.\u001b[39msleep(cycle_s \u001b[39mif\u001b[39;00m cycle_s \u001b[39melse\u001b[39;00m \u001b[39m0.0001\u001b[39m)\n\u001b[0;32m   <a href='file:///c%3A/Users/qdf/AppData/Local/Programs/Python/Python38/lib/site-packages/harvesters/core.py?line=2382'>2383</a>\u001b[0m     \u001b[39melse\u001b[39;00m:\n\u001b[1;32m-> <a href='file:///c%3A/Users/qdf/AppData/Local/Programs/Python/Python38/lib/site-packages/harvesters/core.py?line=2383'>2384</a>\u001b[0m         raw_buffer \u001b[39m=\u001b[39m \u001b[39mself\u001b[39;49m\u001b[39m.\u001b[39;49m_fetch(\n\u001b[0;32m   <a href='file:///c%3A/Users/qdf/AppData/Local/Programs/Python/Python38/lib/site-packages/harvesters/core.py?line=2384'>2385</a>\u001b[0m             manager\u001b[39m=\u001b[39;49m\u001b[39mself\u001b[39;49m\u001b[39m.\u001b[39;49m_event_new_buffer_managers[\u001b[39m0\u001b[39;49m],\n\u001b[0;32m   <a href='file:///c%3A/Users/qdf/AppData/Local/Programs/Python/Python38/lib/site-packages/harvesters/core.py?line=2385'>2386</a>\u001b[0m             timeout_on_client_fetch_call\u001b[39m=\u001b[39;49mtimeout, throw_except\u001b[39m=\u001b[39;49m\u001b[39mTrue\u001b[39;49;00m)\n\u001b[0;32m   <a href='file:///c%3A/Users/qdf/AppData/Local/Programs/Python/Python38/lib/site-packages/harvesters/core.py?line=2386'>2387</a>\u001b[0m         buffer \u001b[39m=\u001b[39m \u001b[39mself\u001b[39m\u001b[39m.\u001b[39m_finalize_fetching_process(raw_buffer, is_raw)\n\u001b[0;32m   <a href='file:///c%3A/Users/qdf/AppData/Local/Programs/Python/Python38/lib/site-packages/harvesters/core.py?line=2388'>2389</a>\u001b[0m \u001b[39mreturn\u001b[39;00m buffer\n",
      "File \u001b[1;32mc:\\Users\\qdf\\AppData\\Local\\Programs\\Python\\Python38\\lib\\site-packages\\harvesters\\core.py:2266\u001b[0m, in \u001b[0;36mImageAcquirer._fetch\u001b[1;34m(self, manager, timeout_on_client_fetch_call, throw_except)\u001b[0m\n\u001b[0;32m   <a href='file:///c%3A/Users/qdf/AppData/Local/Programs/Python/Python38/lib/site-packages/harvesters/core.py?line=2262'>2263</a>\u001b[0m             \u001b[39mreturn\u001b[39;00m \u001b[39mNone\u001b[39;00m\n\u001b[0;32m   <a href='file:///c%3A/Users/qdf/AppData/Local/Programs/Python/Python38/lib/site-packages/harvesters/core.py?line=2264'>2265</a>\u001b[0m \u001b[39mtry\u001b[39;00m:\n\u001b[1;32m-> <a href='file:///c%3A/Users/qdf/AppData/Local/Programs/Python/Python38/lib/site-packages/harvesters/core.py?line=2265'>2266</a>\u001b[0m     manager\u001b[39m.\u001b[39;49mupdate_event_data(\u001b[39mself\u001b[39;49m\u001b[39m.\u001b[39;49mtimeout_period_on_update_event_data_call)\n\u001b[0;32m   <a href='file:///c%3A/Users/qdf/AppData/Local/Programs/Python/Python38/lib/site-packages/harvesters/core.py?line=2266'>2267</a>\u001b[0m \u001b[39mexcept\u001b[39;00m TimeoutException:\n\u001b[0;32m   <a href='file:///c%3A/Users/qdf/AppData/Local/Programs/Python/Python38/lib/site-packages/harvesters/core.py?line=2267'>2268</a>\u001b[0m     \u001b[39mcontinue\u001b[39;00m\n",
      "File \u001b[1;32mc:\\Users\\qdf\\AppData\\Local\\Programs\\Python\\Python38\\lib\\site-packages\\genicam\\gentl.py:1458\u001b[0m, in \u001b[0;36mEventManagerNewBuffer.update_event_data\u001b[1;34m(self, timeout)\u001b[0m\n\u001b[0;32m   <a href='file:///c%3A/Users/qdf/AppData/Local/Programs/Python/Python38/lib/site-packages/genicam/gentl.py?line=1445'>1446</a>\u001b[0m \u001b[39mdef\u001b[39;00m \u001b[39mupdate_event_data\u001b[39m(\u001b[39mself\u001b[39m, timeout):\n\u001b[0;32m   <a href='file:///c%3A/Users/qdf/AppData/Local/Programs/Python/Python38/lib/site-packages/genicam/gentl.py?line=1446'>1447</a>\u001b[0m     \u001b[39m\"\"\"\u001b[39;00m\n\u001b[0;32m   <a href='file:///c%3A/Users/qdf/AppData/Local/Programs/Python/Python38/lib/site-packages/genicam/gentl.py?line=1447'>1448</a>\u001b[0m \n\u001b[0;32m   <a href='file:///c%3A/Users/qdf/AppData/Local/Programs/Python/Python38/lib/site-packages/genicam/gentl.py?line=1448'>1449</a>\u001b[0m \u001b[39m    Updates its event data. Having called this method, its event data that is provided through its properties are overwritten with the latest one.\u001b[39;00m\n\u001b[1;32m   (...)\u001b[0m\n\u001b[0;32m   <a href='file:///c%3A/Users/qdf/AppData/Local/Programs/Python/Python38/lib/site-packages/genicam/gentl.py?line=1455'>1456</a>\u001b[0m \n\u001b[0;32m   <a href='file:///c%3A/Users/qdf/AppData/Local/Programs/Python/Python38/lib/site-packages/genicam/gentl.py?line=1456'>1457</a>\u001b[0m \u001b[39m    \"\"\"\u001b[39;00m\n\u001b[1;32m-> <a href='file:///c%3A/Users/qdf/AppData/Local/Programs/Python/Python38/lib/site-packages/genicam/gentl.py?line=1457'>1458</a>\u001b[0m     \u001b[39mreturn\u001b[39;00m _gentl\u001b[39m.\u001b[39;49mEventManagerNewBuffer_update_event_data(\u001b[39mself\u001b[39;49m, timeout)\n",
      "\u001b[1;31mInvalidHandleException\u001b[0m: GenTL exception: Given handle does not support the operation. (Message from the source: Given handle is invalid (for the requested operation)) (ID: -1006)"
     ]
    }
   ],
   "source": [
    "with h.create(0) as ib:\n",
    "    bild = ib.fetch()\n",
    "    print(bild)"
   ]
  },
  {
   "cell_type": "code",
   "execution_count": null,
   "metadata": {},
   "outputs": [
    {
     "ename": "KeyboardInterrupt",
     "evalue": "",
     "output_type": "error",
     "traceback": [
      "\u001b[1;31m---------------------------------------------------------------------------\u001b[0m",
      "\u001b[1;31mTimeoutException\u001b[0m                          Traceback (most recent call last)",
      "File \u001b[1;32mc:\\Users\\qdf\\AppData\\Local\\Programs\\Python\\Python38\\lib\\site-packages\\harvesters\\core.py:2266\u001b[0m, in \u001b[0;36mImageAcquirer._fetch\u001b[1;34m(self, manager, timeout_on_client_fetch_call, throw_except)\u001b[0m\n\u001b[0;32m   <a href='file:///c%3A/Users/qdf/AppData/Local/Programs/Python/Python38/lib/site-packages/harvesters/core.py?line=2264'>2265</a>\u001b[0m \u001b[39mtry\u001b[39;00m:\n\u001b[1;32m-> <a href='file:///c%3A/Users/qdf/AppData/Local/Programs/Python/Python38/lib/site-packages/harvesters/core.py?line=2265'>2266</a>\u001b[0m     manager\u001b[39m.\u001b[39;49mupdate_event_data(\u001b[39mself\u001b[39;49m\u001b[39m.\u001b[39;49mtimeout_period_on_update_event_data_call)\n\u001b[0;32m   <a href='file:///c%3A/Users/qdf/AppData/Local/Programs/Python/Python38/lib/site-packages/harvesters/core.py?line=2266'>2267</a>\u001b[0m \u001b[39mexcept\u001b[39;00m TimeoutException:\n",
      "File \u001b[1;32mc:\\Users\\qdf\\AppData\\Local\\Programs\\Python\\Python38\\lib\\site-packages\\genicam\\gentl.py:1458\u001b[0m, in \u001b[0;36mEventManagerNewBuffer.update_event_data\u001b[1;34m(self, timeout)\u001b[0m\n\u001b[0;32m   <a href='file:///c%3A/Users/qdf/AppData/Local/Programs/Python/Python38/lib/site-packages/genicam/gentl.py?line=1446'>1447</a>\u001b[0m \u001b[39m\"\"\"\u001b[39;00m\n\u001b[0;32m   <a href='file:///c%3A/Users/qdf/AppData/Local/Programs/Python/Python38/lib/site-packages/genicam/gentl.py?line=1447'>1448</a>\u001b[0m \n\u001b[0;32m   <a href='file:///c%3A/Users/qdf/AppData/Local/Programs/Python/Python38/lib/site-packages/genicam/gentl.py?line=1448'>1449</a>\u001b[0m \u001b[39mUpdates its event data. Having called this method, its event data that is provided through its properties are overwritten with the latest one.\u001b[39;00m\n\u001b[1;32m   (...)\u001b[0m\n\u001b[0;32m   <a href='file:///c%3A/Users/qdf/AppData/Local/Programs/Python/Python38/lib/site-packages/genicam/gentl.py?line=1455'>1456</a>\u001b[0m \n\u001b[0;32m   <a href='file:///c%3A/Users/qdf/AppData/Local/Programs/Python/Python38/lib/site-packages/genicam/gentl.py?line=1456'>1457</a>\u001b[0m \u001b[39m\"\"\"\u001b[39;00m\n\u001b[1;32m-> <a href='file:///c%3A/Users/qdf/AppData/Local/Programs/Python/Python38/lib/site-packages/genicam/gentl.py?line=1457'>1458</a>\u001b[0m \u001b[39mreturn\u001b[39;00m _gentl\u001b[39m.\u001b[39;49mEventManagerNewBuffer_update_event_data(\u001b[39mself\u001b[39;49m, timeout)\n",
      "\u001b[1;31mTimeoutException\u001b[0m: GenTL exception: Operation timed out before completion. (Message from the source: An operation's timeout time expired) (ID: -1011)",
      "\nDuring handling of the above exception, another exception occurred:\n",
      "\u001b[1;31mKeyboardInterrupt\u001b[0m                         Traceback (most recent call last)",
      "\u001b[1;32md:\\HZB\\Bachelor\\git-clone\\bachelor\\Jupiter\\Harvester_Core.ipynb Cell 10'\u001b[0m in \u001b[0;36m<cell line: 6>\u001b[1;34m()\u001b[0m\n\u001b[0;32m      <a href='vscode-notebook-cell:/d%3A/HZB/Bachelor/git-clone/bachelor/Jupiter/Harvester_Core.ipynb#ch0000010?line=2'>3</a>\u001b[0m ia\u001b[39m.\u001b[39mremote_device\u001b[39m.\u001b[39mnode_map\u001b[39m.\u001b[39mPixelFormat\u001b[39m.\u001b[39mvalue \u001b[39m=\u001b[39m \u001b[39m'\u001b[39m\u001b[39mMono8\u001b[39m\u001b[39m'\u001b[39m\n\u001b[0;32m      <a href='vscode-notebook-cell:/d%3A/HZB/Bachelor/git-clone/bachelor/Jupiter/Harvester_Core.ipynb#ch0000010?line=4'>5</a>\u001b[0m ia\u001b[39m.\u001b[39mstart()\n\u001b[1;32m----> <a href='vscode-notebook-cell:/d%3A/HZB/Bachelor/git-clone/bachelor/Jupiter/Harvester_Core.ipynb#ch0000010?line=5'>6</a>\u001b[0m \u001b[39mwith\u001b[39;00m ia\u001b[39m.\u001b[39;49mfetch() \u001b[39mas\u001b[39;00m buffer:\n\u001b[0;32m      <a href='vscode-notebook-cell:/d%3A/HZB/Bachelor/git-clone/bachelor/Jupiter/Harvester_Core.ipynb#ch0000010?line=6'>7</a>\u001b[0m     \u001b[39m# Let's create an alias of the 2D image component:\u001b[39;00m\n\u001b[0;32m      <a href='vscode-notebook-cell:/d%3A/HZB/Bachelor/git-clone/bachelor/Jupiter/Harvester_Core.ipynb#ch0000010?line=7'>8</a>\u001b[0m     component \u001b[39m=\u001b[39m buffer\u001b[39m.\u001b[39mpayload\u001b[39m.\u001b[39mcomponents[\u001b[39m0\u001b[39m]\n\u001b[0;32m      <a href='vscode-notebook-cell:/d%3A/HZB/Bachelor/git-clone/bachelor/Jupiter/Harvester_Core.ipynb#ch0000010?line=8'>9</a>\u001b[0m     \u001b[39m# Note that the number of components can be vary. If your\u001b[39;00m\n\u001b[0;32m     <a href='vscode-notebook-cell:/d%3A/HZB/Bachelor/git-clone/bachelor/Jupiter/Harvester_Core.ipynb#ch0000010?line=9'>10</a>\u001b[0m     \u001b[39m# target remote device transmits a multi-part information, then\u001b[39;00m\n\u001b[0;32m     <a href='vscode-notebook-cell:/d%3A/HZB/Bachelor/git-clone/bachelor/Jupiter/Harvester_Core.ipynb#ch0000010?line=10'>11</a>\u001b[0m     \u001b[39m# you'd get two or more components in the payload. However, now\u001b[39;00m\n\u001b[0;32m     <a href='vscode-notebook-cell:/d%3A/HZB/Bachelor/git-clone/bachelor/Jupiter/Harvester_Core.ipynb#ch0000010?line=11'>12</a>\u001b[0m     \u001b[39m# we're working with a remote device that transmits only a 2D image.\u001b[39;00m\n\u001b[0;32m     <a href='vscode-notebook-cell:/d%3A/HZB/Bachelor/git-clone/bachelor/Jupiter/Harvester_Core.ipynb#ch0000010?line=12'>13</a>\u001b[0m     \u001b[39m# So we manipulate only index 0 of the list object, components.\u001b[39;00m\n\u001b[0;32m     <a href='vscode-notebook-cell:/d%3A/HZB/Bachelor/git-clone/bachelor/Jupiter/Harvester_Core.ipynb#ch0000010?line=13'>14</a>\u001b[0m     \u001b[39m# Let's see the acquired data in 1D:\u001b[39;00m\n",
      "File \u001b[1;32mc:\\Users\\qdf\\AppData\\Local\\Programs\\Python\\Python38\\lib\\site-packages\\harvesters\\core.py:2384\u001b[0m, in \u001b[0;36mImageAcquirer.fetch\u001b[1;34m(self, timeout, is_raw, cycle_s)\u001b[0m\n\u001b[0;32m   <a href='file:///c%3A/Users/qdf/AppData/Local/Programs/Python/Python38/lib/site-packages/harvesters/core.py?line=2381'>2382</a>\u001b[0m             time\u001b[39m.\u001b[39msleep(cycle_s \u001b[39mif\u001b[39;00m cycle_s \u001b[39melse\u001b[39;00m \u001b[39m0.0001\u001b[39m)\n\u001b[0;32m   <a href='file:///c%3A/Users/qdf/AppData/Local/Programs/Python/Python38/lib/site-packages/harvesters/core.py?line=2382'>2383</a>\u001b[0m     \u001b[39melse\u001b[39;00m:\n\u001b[1;32m-> <a href='file:///c%3A/Users/qdf/AppData/Local/Programs/Python/Python38/lib/site-packages/harvesters/core.py?line=2383'>2384</a>\u001b[0m         raw_buffer \u001b[39m=\u001b[39m \u001b[39mself\u001b[39;49m\u001b[39m.\u001b[39;49m_fetch(\n\u001b[0;32m   <a href='file:///c%3A/Users/qdf/AppData/Local/Programs/Python/Python38/lib/site-packages/harvesters/core.py?line=2384'>2385</a>\u001b[0m             manager\u001b[39m=\u001b[39;49m\u001b[39mself\u001b[39;49m\u001b[39m.\u001b[39;49m_event_new_buffer_managers[\u001b[39m0\u001b[39;49m],\n\u001b[0;32m   <a href='file:///c%3A/Users/qdf/AppData/Local/Programs/Python/Python38/lib/site-packages/harvesters/core.py?line=2385'>2386</a>\u001b[0m             timeout_on_client_fetch_call\u001b[39m=\u001b[39;49mtimeout, throw_except\u001b[39m=\u001b[39;49m\u001b[39mTrue\u001b[39;49;00m)\n\u001b[0;32m   <a href='file:///c%3A/Users/qdf/AppData/Local/Programs/Python/Python38/lib/site-packages/harvesters/core.py?line=2386'>2387</a>\u001b[0m         buffer \u001b[39m=\u001b[39m \u001b[39mself\u001b[39m\u001b[39m.\u001b[39m_finalize_fetching_process(raw_buffer, is_raw)\n\u001b[0;32m   <a href='file:///c%3A/Users/qdf/AppData/Local/Programs/Python/Python38/lib/site-packages/harvesters/core.py?line=2388'>2389</a>\u001b[0m \u001b[39mreturn\u001b[39;00m buffer\n",
      "File \u001b[1;32mc:\\Users\\qdf\\AppData\\Local\\Programs\\Python\\Python38\\lib\\site-packages\\harvesters\\core.py:2267\u001b[0m, in \u001b[0;36mImageAcquirer._fetch\u001b[1;34m(self, manager, timeout_on_client_fetch_call, throw_except)\u001b[0m\n\u001b[0;32m   <a href='file:///c%3A/Users/qdf/AppData/Local/Programs/Python/Python38/lib/site-packages/harvesters/core.py?line=2264'>2265</a>\u001b[0m \u001b[39mtry\u001b[39;00m:\n\u001b[0;32m   <a href='file:///c%3A/Users/qdf/AppData/Local/Programs/Python/Python38/lib/site-packages/harvesters/core.py?line=2265'>2266</a>\u001b[0m     manager\u001b[39m.\u001b[39mupdate_event_data(\u001b[39mself\u001b[39m\u001b[39m.\u001b[39mtimeout_period_on_update_event_data_call)\n\u001b[1;32m-> <a href='file:///c%3A/Users/qdf/AppData/Local/Programs/Python/Python38/lib/site-packages/harvesters/core.py?line=2266'>2267</a>\u001b[0m \u001b[39mexcept\u001b[39;00m TimeoutException:\n\u001b[0;32m   <a href='file:///c%3A/Users/qdf/AppData/Local/Programs/Python/Python38/lib/site-packages/harvesters/core.py?line=2267'>2268</a>\u001b[0m     \u001b[39mcontinue\u001b[39;00m\n\u001b[0;32m   <a href='file:///c%3A/Users/qdf/AppData/Local/Programs/Python/Python38/lib/site-packages/harvesters/core.py?line=2268'>2269</a>\u001b[0m \u001b[39mexcept\u001b[39;00m GenTL_GenericException \u001b[39mas\u001b[39;00m e:\n",
      "\u001b[1;31mKeyboardInterrupt\u001b[0m: "
     ]
    }
   ],
   "source": [
    "# ia.remote_device.node_map.Width.value = 8\n",
    "# ia.remote_device.node_map.Height.value = 8\n",
    "# ia.remote_device.node_map.PixelFormat.value = 'Mono8'\n",
    "\n",
    "# ia.start()\n",
    "# with ia.fetch() as buffer:\n",
    "#     # Let's create an alias of the 2D image component:\n",
    "#     component = buffer.payload.components[0]\n",
    "#     # Note that the number of components can be vary. If your\n",
    "#     # target remote device transmits a multi-part information, then\n",
    "#     # you'd get two or more components in the payload. However, now\n",
    "#     # we're working with a remote device that transmits only a 2D image.\n",
    "#     # So we manipulate only index 0 of the list object, components.\n",
    "#     # Let's see the acquired data in 1D:\n",
    "#     _1d = component.data\n",
    "#     print('1D: {0}'.format(_1d))\n",
    "#     # Reshape the NumPy array into a 2D array:\n",
    "#     _2d = component.data.reshape(\n",
    "#         component.height, component.width\n",
    "#     )\n",
    "#     print('2D: {0}'.format(_2d))\n",
    "#     # Here are some trivial calculations:\n",
    "#     print(\n",
    "#             'AVE: {0}, MIN: {1}, MAX: {2}'.format(\n",
    "#                 np.average(_2d), _2d.min(), _2d.max()\n",
    "#             )\n",
    "#         )\n",
    "\n",
    "# ia.stop()\n",
    "# ia.destroy()\n",
    "# h.reset()\n",
    "    \n"
   ]
  }
 ],
 "metadata": {
  "interpreter": {
   "hash": "21cdb3d66a79be0d12f18a612bc6848bce6e6021fd7c7a84cd75a81a3dc22510"
  },
  "kernelspec": {
   "display_name": "Python 3.8.6 64-bit",
   "language": "python",
   "name": "python3"
  },
  "language_info": {
   "codemirror_mode": {
    "name": "ipython",
    "version": 3
   },
   "file_extension": ".py",
   "mimetype": "text/x-python",
   "name": "python",
   "nbconvert_exporter": "python",
   "pygments_lexer": "ipython3",
   "version": "3.8.6"
  },
  "orig_nbformat": 4
 },
 "nbformat": 4,
 "nbformat_minor": 2
}
