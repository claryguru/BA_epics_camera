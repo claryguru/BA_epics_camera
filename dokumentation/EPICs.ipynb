{
 "cells": [
  {
   "cell_type": "markdown",
   "metadata": {},
   "source": [
    "## EPICs Test\n",
    "\n",
    "- documemt softioc installation\n",
    "- get test programm running"
   ]
  },
  {
   "cell_type": "markdown",
   "metadata": {},
   "source": [
    "### Installation\n",
    "softioc noch nicht für python version 3.10 umgesetzt, deshalb python Kernel 3.9 benutzen \n",
    "Doku: https://dls-controls.github.io/pythonSoftIOC/master/tutorials/creating-an-ioc.html\n",
    "\n",
    "Hier wurde ayncio nicht cothread verwendet, da es mit windows ausgeführt wurde. Weitere Erklärung dazu: https://dls-controls.github.io/pythonSoftIOC/master/explanations/asyncio-cothread-differences.html"
   ]
  },
  {
   "cell_type": "code",
   "execution_count": 1,
   "metadata": {},
   "outputs": [],
   "source": [
    "#einmalig ausführen:\n",
    "#!{sys.executable} -m pip install softioc\n",
    "#!{sys.executable} -m pip install asyncio"
   ]
  },
  {
   "cell_type": "code",
   "execution_count": 1,
   "metadata": {},
   "outputs": [],
   "source": [
    "# Import the basic framework components.\n",
    "from softioc import softioc, builder, asyncio_dispatcher\n",
    "import asyncio"
   ]
  },
  {
   "cell_type": "code",
   "execution_count": 2,
   "metadata": {},
   "outputs": [],
   "source": [
    "# Create an asyncio dispatcher, the event loop is now running\n",
    "dispatcher = asyncio_dispatcher.AsyncioDispatcher()\n",
    "\n",
    "# Set the record prefix\n",
    "builder.SetDeviceName(\"MY-DEVICE-PREFIX\")\n",
    "\n",
    "# Create some records\n",
    "ai = builder.aIn('AI', initial_value=5)\n",
    "ao = builder.aOut('AO', initial_value=12.45, always_update=True,\n",
    "                  on_update=lambda v: ai.set(v))\n",
    "\n",
    "# Boilerplate get the IOC started\n",
    "builder.LoadDatabase()\n",
    "softioc.iocInit(dispatcher)"
   ]
  },
  {
   "cell_type": "markdown",
   "metadata": {},
   "source": [
    "bei Fehlermeldung das Records zu früh gecalled wurden, Kernel neu starten"
   ]
  },
  {
   "cell_type": "code",
   "execution_count": 3,
   "metadata": {},
   "outputs": [
    {
     "name": "stderr",
     "output_type": "stream",
     "text": [
      "Python 3.9.1 (tags/v3.9.1:1e5d33e, Dec  7 2020, 17:08:21) [MSC v.1927 64 bit (AMD64)] on win32\n",
      "Type \"help\", \"copyright\", \"credits\" or \"license\" for more information.\n",
      "(InteractiveConsole)\n",
      "\n",
      "KeyboardInterrupt\n"
     ]
    }
   ],
   "source": [
    "# Start processes required to be run after iocInit\n",
    "async def update():\n",
    "    while True:\n",
    "        ai.set(ai.get() + 1)\n",
    "        await asyncio.sleep(1)\n",
    "\n",
    "asyncio.run_coroutine_threadsafe(update(), dispatcher.loop)\n",
    "\n",
    "# Finally leave the IOC running with an interactive shell.\n",
    "softioc.interactive_ioc(globals())"
   ]
  },
  {
   "cell_type": "code",
   "execution_count": 3,
   "metadata": {},
   "outputs": [
    {
     "data": {
      "text/plain": [
       "array([[ 0,  0,  0, ...,  0,  0,  0],\n",
       "       [ 1,  1,  1, ...,  1,  1,  1],\n",
       "       [ 2,  2,  2, ...,  2,  2,  2],\n",
       "       ...,\n",
       "       [97, 97, 97, ..., 97, 97, 97],\n",
       "       [98, 98, 98, ..., 98, 98, 98],\n",
       "       [99, 99, 99, ..., 99, 99, 99]])"
      ]
     },
     "execution_count": 3,
     "metadata": {},
     "output_type": "execute_result"
    }
   ],
   "source": [
    "import numpy as np\n",
    "edge_x = 200\n",
    "edge_y = 100\n",
    "x_values_basis = np.repeat(np.array([range(0, edge_x)]), edge_y, axis=0)\n",
    "y_list = []\n",
    "for i in range (0,edge_y):\n",
    "    y_list.append([i] * edge_x)\n",
    "y_values_basis = np.array(y_list)\n",
    "y_values_basis\n"
   ]
  }
 ],
 "metadata": {
  "interpreter": {
   "hash": "ca05ebcb4bdf3468867211a585c7570f551873dac6cea58139d7b17b1c6a385b"
  },
  "kernelspec": {
   "display_name": "Python 3.9.1 64-bit",
   "language": "python",
   "name": "python3"
  },
  "language_info": {
   "codemirror_mode": {
    "name": "ipython",
    "version": 3
   },
   "file_extension": ".py",
   "mimetype": "text/x-python",
   "name": "python",
   "nbconvert_exporter": "python",
   "pygments_lexer": "ipython3",
   "version": "3.9.1"
  },
  "orig_nbformat": 4
 },
 "nbformat": 4,
 "nbformat_minor": 2
}
