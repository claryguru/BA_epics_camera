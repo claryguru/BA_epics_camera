{
 "cells": [
  {
   "cell_type": "markdown",
   "metadata": {},
   "source": [
    "# vereinfachter Fit"
   ]
  },
  {
   "cell_type": "code",
   "execution_count": null,
   "metadata": {},
   "outputs": [],
   "source": [
    "# ### 1D-Fit\n",
    "Es ist unkompliziert in einem NumPy-Array den\n",
    "höchsten Wert zu bestimmen. Der höchste Wert in einer Gaußschen Glocke ist auch\n",
    "immer das Zentrum der Glocke. Der höchste Wert in den Bilddaten ist auch ungefähr\n",
    "der höchste Punkt der Gaußschen Glocke. Diese Annahme kann nur getroffen\n",
    "werden, wenn vorher durch den Median-Filter Verfälschungen durch Hotpixel eliminiert\n",
    "wurden. Für die vereinfachten Fit-Algorithmen werden die Werte aus der\n",
    "Zeile, bzw. Spalte in den Bilddaten verwendet, in denen der höchste Wert liegt. Es\n",
    "handelt sich hierbei um einfache Gaußkurven, die nur von x oder von y abhängig\n",
    "sind (siehe Abb. ...). Werden diese Kurven mit einem vereinfachten Fit-Algorithmus\n",
    "analysiert, kann genauer bestimmt werden, wie die Verteilung der Helligkeitswerte\n",
    "ist. Aus der Verteilung lässt sich wiederum die Breite in x- und y-Richtung ableiten\n",
    "und die Abbildung des Elektronenstrahls ist gefunden.\n",
    "med_filt_data = median_filter(roi, size=2)\n",
    "\n",
    "y_max, x_max = np.where(med_filt_data == np.amax(med_filt_data))\n",
    "print(y_max, x_max)\n",
    "\n",
    "y_data = med_filt_data[:,y_max[0]]\n",
    "x_data = roi[x_max[0]]\n",
    "\n",
    "plt.plot(y_data,)\n",
    "plt.show()\n",
    "plt.plot(x_data)\n",
    "plt.show()\n",
    "\n",
    "def gauss_func(x,  H, A, x0, sigma):\n",
    "    return H + A * np.exp(-(x - x0) ** 2 / (2 * sigma ** 2))\n",
    "\n",
    "x_values_x = np.arange(len(x_data))\n",
    "x_values_y = np.arange(len(y_data))\n",
    "\n",
    "popt_x, pcov_x = curve_fit(gauss_func, x_values_x, x_data)\n",
    "print(popt_x)\n",
    "\n",
    "# p0 = [np.amin(med_filt_data), np.amax(med_filt_data), 0, 0]\n",
    "popt_y, pcov_y = curve_fit(gauss_func, x_values_y, y_data)\n",
    "print(popt_y)\n",
    "\n",
    "fit_x = gauss_func(x_values_x, popt_x[0], popt_x[1],  popt_y[2], popt_y[3])\n",
    "plt.plot(x_values_x, x_data, 'o', label='data')\n",
    "plt.plot(x_values_x, fit_x, '-', label='fit')\n",
    "plt.legend()\n",
    "plt.show()\n",
    "\n",
    "fit_y = gauss_func(x_values_y, popt_y[0], popt_y[1], popt_y[2], popt_y[3] )\n",
    "plt.plot(x_values_y, y_data, 'o', label='data')\n",
    "plt.plot(x_values_y, fit_y, '-', label='fit')\n",
    "plt.legend()\n",
    "plt.show()\n",
    "\n",
    "ax = plt.axes()\n",
    "ax.scatter(x_values_y, y_data, c=y_data, cmap='viridis')\n"
   ]
  }
 ],
 "metadata": {
  "kernelspec": {
   "display_name": "Python 3.7.9 64-bit",
   "language": "python",
   "name": "python3"
  },
  "language_info": {
   "name": "python",
   "version": "3.7.9"
  },
  "orig_nbformat": 4,
  "vscode": {
   "interpreter": {
    "hash": "470f2e9167e2936fbac882a96038ba41a36814f617a8e2939c33ec052462e22c"
   }
  }
 },
 "nbformat": 4,
 "nbformat_minor": 2
}
