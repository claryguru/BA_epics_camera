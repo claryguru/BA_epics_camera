{
 "cells": [
  {
   "cell_type": "markdown",
   "metadata": {},
   "source": [
    "# Optimize\n",
    "Optimze Gauss-Model Function with Python Profilers"
   ]
  },
  {
   "cell_type": "code",
   "execution_count": 1,
   "metadata": {},
   "outputs": [],
   "source": [
    "import cProfile\n",
    "import re\n",
    "import pstats\n",
    "from pstats import SortKey\n",
    "import numpy as np\n",
    "import scipy.optimize as opt"
   ]
  },
  {
   "cell_type": "code",
   "execution_count": 2,
   "metadata": {},
   "outputs": [
    {
     "name": "stdout",
     "output_type": "stream",
     "text": [
      "15373\n"
     ]
    }
   ],
   "source": [
    "with open('.fit_area.npy', 'rb') as f:\n",
    "        ar = np.load(f)\n",
    "\n",
    "z_values_in = ar.flatten()\n",
    "print(np.amax(z_values_in))\n",
    "edge_x = ar.shape[1]\n",
    "edge_y = ar.shape[0]\n",
    "    #TO DO: double check if there is some better syntax\n",
    "x_values = np.repeat(np.array([range(0,edge_x)]), edge_y, axis=0).flatten()\n",
    "y_values = np.repeat(np.array([range(edge_y-1, -1, -1)]).reshape(edge_y,1), edge_x, axis=1).flatten()\n"
   ]
  },
  {
   "cell_type": "code",
   "execution_count": 3,
   "metadata": {},
   "outputs": [],
   "source": [
    "def guess(x, y, z):\n",
    "    \"\"\"Estimate starting values from 2D peak data and create Parameters.\"\"\"\n",
    "    if x is None or y is None:\n",
    "        return 1.0, 0.0, 0.0, 1.0, 1.0\n",
    "\n",
    "    maxx, minx = np.amax(x), np.amin(x)\n",
    "    maxy, miny = np.amax(y), np.amin(y)\n",
    "    maxz, minz = np.amax(z), np.amin(z)\n",
    "\n",
    "    centerx = x[np.argmax(z)]\n",
    "    centery = y[np.argmax(z)]\n",
    "    amplitude = (maxz - minz) #quasi height\n",
    "    sigmax = (maxx-minx)/6.0\n",
    "    sigmay = (maxy-miny)/6.0\n",
    "    offset = minz\n",
    "\n",
    "    return amplitude,centerx,centery,sigmax,sigmay, 0, offset"
   ]
  },
  {
   "cell_type": "code",
   "execution_count": 4,
   "metadata": {},
   "outputs": [],
   "source": [
    "def twoD_Gaussian( x_y , init):\n",
    "    amplitude, x_center, y_center, sigma_x, sigma_y, theta, offset = init\n",
    "    x, y = x_y\n",
    "    xo = float(x_center)\n",
    "    yo = float(y_center)    \n",
    "    a = (np.cos(theta)**2)/(2*sigma_x**2) + (np.sin(theta)**2)/(2*sigma_y**2)\n",
    "    b = -(np.sin(2*theta))/(4*sigma_x**2) + (np.sin(2*theta))/(4*sigma_y**2)\n",
    "    c = (np.sin(theta)**2)/(2*sigma_x**2) + (np.cos(theta)**2)/(2*sigma_y**2)\n",
    "    result = offset + amplitude*np.exp( - (a*((x-xo)**2) + 2*b*(x-xo)*(y-yo) + c*((y-yo)**2)))\n",
    "    return result.ravel()"
   ]
  },
  {
   "cell_type": "code",
   "execution_count": 5,
   "metadata": {},
   "outputs": [],
   "source": [
    "initial_guess = guess(x_values, y_values, z_values_in)"
   ]
  },
  {
   "cell_type": "markdown",
   "metadata": {},
   "source": [
    "Analyse optimieren"
   ]
  },
  {
   "cell_type": "code",
   "execution_count": 13,
   "metadata": {},
   "outputs": [],
   "source": [
    "cProfile.run('re.compile(\"opt.curve_fit(twoD_Gaussian, (x_values, y_values), z_values_in, p0=initial_guess)\")', 'restats')"
   ]
  },
  {
   "cell_type": "code",
   "execution_count": 18,
   "metadata": {},
   "outputs": [],
   "source": [
    "p = pstats.Stats('restats')\n",
    "#p.strip_dirs().sort_stats(-1).print_stats()"
   ]
  },
  {
   "cell_type": "code",
   "execution_count": 19,
   "metadata": {},
   "outputs": [
    {
     "name": "stdout",
     "output_type": "stream",
     "text": [
      "Tue Jun 28 14:31:00 2022    restats\n",
      "\n",
      "         688 function calls (675 primitive calls) in 0.001 seconds\n",
      "\n",
      "   Ordered by: cumulative time\n",
      "   List reduced from 43 to 15 due to restriction <15>\n",
      "\n",
      "   ncalls  tottime  percall  cumtime  percall filename:lineno(function)\n",
      "        1    0.000    0.000    0.001    0.001 {built-in method builtins.exec}\n",
      "        1    0.000    0.000    0.000    0.000 <string>:1(<module>)\n",
      "        1    0.000    0.000    0.000    0.000 c:\\Python310\\lib\\re.py:249(compile)\n",
      "        1    0.000    0.000    0.000    0.000 c:\\Python310\\lib\\re.py:288(_compile)\n",
      "        1    0.000    0.000    0.000    0.000 c:\\Python310\\lib\\sre_compile.py:759(compile)\n",
      "        1    0.000    0.000    0.000    0.000 c:\\Python310\\lib\\sre_parse.py:937(parse)\n",
      "      3/1    0.000    0.000    0.000    0.000 c:\\Python310\\lib\\sre_parse.py:435(_parse_sub)\n",
      "      3/1    0.000    0.000    0.000    0.000 c:\\Python310\\lib\\sre_parse.py:493(_parse)\n",
      "        1    0.000    0.000    0.000    0.000 c:\\Python310\\lib\\sre_compile.py:598(_code)\n",
      "      3/1    0.000    0.000    0.000    0.000 c:\\Python310\\lib\\sre_compile.py:71(_compile)\n",
      "        1    0.000    0.000    0.000    0.000 c:\\Python310\\lib\\sre_compile.py:536(_compile_info)\n",
      "       48    0.000    0.000    0.000    0.000 c:\\Python310\\lib\\sre_parse.py:254(get)\n",
      "      207    0.000    0.000    0.000    0.000 {method 'append' of 'list' objects}\n",
      "       84    0.000    0.000    0.000    0.000 c:\\Python310\\lib\\sre_parse.py:164(__getitem__)\n",
      "      3/1    0.000    0.000    0.000    0.000 c:\\Python310\\lib\\sre_compile.py:461(_get_literal_prefix)\n",
      "\n",
      "\n"
     ]
    },
    {
     "data": {
      "text/plain": [
       "<pstats.Stats at 0x216d06c3b20>"
      ]
     },
     "execution_count": 19,
     "metadata": {},
     "output_type": "execute_result"
    }
   ],
   "source": [
    "p.sort_stats(SortKey.CUMULATIVE).print_stats(15)"
   ]
  },
  {
   "cell_type": "code",
   "execution_count": 21,
   "metadata": {},
   "outputs": [],
   "source": [
    "cProfile.run('re.compile(\"twoD_Gaussian((x_values, y_values), initial_guess)\")', 'restats')"
   ]
  },
  {
   "cell_type": "code",
   "execution_count": 23,
   "metadata": {},
   "outputs": [
    {
     "name": "stdout",
     "output_type": "stream",
     "text": [
      "Tue Jun 28 14:31:55 2022    restats\n",
      "\n",
      "         6 function calls in 0.000 seconds\n",
      "\n",
      "   Ordered by: cumulative time\n",
      "\n",
      "   ncalls  tottime  percall  cumtime  percall filename:lineno(function)\n",
      "        1    0.000    0.000    0.000    0.000 {built-in method builtins.exec}\n",
      "        1    0.000    0.000    0.000    0.000 <string>:1(<module>)\n",
      "        1    0.000    0.000    0.000    0.000 c:\\Python310\\lib\\re.py:249(compile)\n",
      "        1    0.000    0.000    0.000    0.000 c:\\Python310\\lib\\re.py:288(_compile)\n",
      "        1    0.000    0.000    0.000    0.000 {built-in method builtins.isinstance}\n",
      "        1    0.000    0.000    0.000    0.000 {method 'disable' of '_lsprof.Profiler' objects}\n",
      "\n",
      "\n"
     ]
    },
    {
     "data": {
      "text/plain": [
       "<pstats.Stats at 0x216b292c160>"
      ]
     },
     "execution_count": 23,
     "metadata": {},
     "output_type": "execute_result"
    }
   ],
   "source": [
    "p = pstats.Stats('restats')\n",
    "p.sort_stats(SortKey.CUMULATIVE).print_stats()"
   ]
  }
 ],
 "metadata": {
  "kernelspec": {
   "display_name": "Python 3.10.0 64-bit",
   "language": "python",
   "name": "python3"
  },
  "language_info": {
   "codemirror_mode": {
    "name": "ipython",
    "version": 3
   },
   "file_extension": ".py",
   "mimetype": "text/x-python",
   "name": "python",
   "nbconvert_exporter": "python",
   "pygments_lexer": "ipython3",
   "version": "3.10.0"
  },
  "orig_nbformat": 4,
  "vscode": {
   "interpreter": {
    "hash": "369f2c481f4da34e4445cda3fffd2e751bd1c4d706f27375911949ba6bb62e1c"
   }
  }
 },
 "nbformat": 4,
 "nbformat_minor": 2
}
