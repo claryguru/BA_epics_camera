{
 "cells": [
  {
   "cell_type": "markdown",
   "metadata": {},
   "source": [
    "# Test Boundaries"
   ]
  },
  {
   "cell_type": "code",
   "execution_count": 1,
   "metadata": {},
   "outputs": [],
   "source": [
    "import cv2\n",
    "import numpy as np\n",
    "from matplotlib import pyplot as plt\n",
    "from sklearn.cluster import KMeans\n",
    "from skimage.measure import regionprops\n",
    "from scipy.ndimage import label, median_filter, find_objects\n",
    "from sklearn.mixture import GaussianMixture\n",
    "from scipy.optimize import curve_fit\n",
    "from math import pi"
   ]
  },
  {
   "cell_type": "code",
   "execution_count": 2,
   "metadata": {},
   "outputs": [
    {
     "data": {
      "image/png": "[encoded data removed]",
      "text/plain": [
       "<Figure size 432x288 with 1 Axes>"
      ]
     },
     "metadata": {
      "needs_background": "light"
     },
     "output_type": "display_data"
    }
   ],
   "source": [
    "# create roi\n",
    "with open('D:\\\\HZB\\\\Camera_Data\\\\mls13\\\\1test.npy', 'rb') as f:\n",
    "        data = np.load(f)\n",
    "data = data.reshape(1456, 1936)\n",
    "roi = data[(slice(600, 900, None),\n",
    "            slice(800, 1250, None))]\n",
    "plt.imshow(roi, cmap='viridis')\n",
    "plt.show()"
   ]
  },
  {
   "cell_type": "code",
   "execution_count": 3,
   "metadata": {},
   "outputs": [
    {
     "name": "stdout",
     "output_type": "stream",
     "text": [
      "(15258, 196, 115, 74.83333333333333, 49.833333333333336, 0, 115)\n"
     ]
    }
   ],
   "source": [
    "def guess( x, y, z):\n",
    "        # guess the approximate values for the first fit analysis\n",
    "        try:\n",
    "            maxx, minx = np.amax(x), np.amin(x)\n",
    "            maxy, miny = np.amax(y), np.amin(y)\n",
    "            maxz, minz = np.amax(z), np.amin(z)\n",
    "\n",
    "            centerx = x[np.argmax(z)]\n",
    "            centery = y[np.argmax(z)]\n",
    "            amplitude = (maxz - minz)  # more or less height\n",
    "\n",
    "            sigmax = (maxx - minx) / 6.0 # works if frame is close around object\n",
    "            sigmay = (maxy - miny) / 6.0 # works if frame is close around object\n",
    "            offset = minz\n",
    "\n",
    "            return amplitude, centerx, centery, sigmax, sigmay, 0, offset\n",
    "        except:\n",
    "            print('guessing initial fit params failed')\n",
    "            return 0, 0, 0, 0, 0, 0, 0\n",
    "\n",
    "def gaussian_model( x_y, amplitude, x_center, y_center, sigma_x, sigma_y, theta, offset):\n",
    "        # calculate test data during fit algorithm to compare with data in\n",
    "        x, y = x_y\n",
    "        xo = float(x_center)\n",
    "        yo = float(y_center)\n",
    "        a = (np.cos(theta) ** 2) / (2 * sigma_x ** 2) + (np.sin(theta) ** 2) / (2 * sigma_y ** 2)\n",
    "        b = -(np.sin(2 * theta)) / (4 * sigma_x ** 2) + (np.sin(2 * theta)) / (4 * sigma_y ** 2)\n",
    "        c = (np.sin(theta) ** 2) / (2 * sigma_x ** 2) + (np.cos(theta) ** 2) / (2 * sigma_y ** 2)\n",
    "        result = offset + amplitude * np.exp(\n",
    "            - (a * ((x - xo) ** 2) + 2 * b * (x - xo) * (y - yo) + c * ((y - yo) ** 2)))\n",
    "        return result.ravel()\n",
    "\n",
    "edge_x = roi.shape[1]\n",
    "edge_y = roi.shape[0]\n",
    "    # TO DO: double check if there is some better syntax\n",
    "x_values = np.repeat(np.array([range(0, edge_x)]), edge_y, axis=0).flatten()\n",
    "y_list = []\n",
    "for i in range(0, edge_y):\n",
    "    y_list.append([i] * edge_x)\n",
    "y_values = np.array(y_list).flatten()\n",
    "\n",
    "# first fit analysis with founded guess and boundaries\n",
    "z_values_in = roi.flatten()\n",
    "\n",
    "\n",
    "initial_params = guess(x_values, y_values, z_values_in)\n",
    "print(initial_params)\n",
    "bounds = ([0, 0, 0, 0, 0, -pi / 4, 0], [16382, np.inf, np.inf, np.inf, np.inf, pi / 4, 16382])\n",
    "\n",
    "\n",
    "popt, pcov = curve_fit(gaussian_model, (x_values, y_values), z_values_in, p0=initial_params, bounds=bounds)"
   ]
  },
  {
   "cell_type": "code",
   "execution_count": 4,
   "metadata": {},
   "outputs": [
    {
     "name": "stdout",
     "output_type": "stream",
     "text": [
      "[1.52212944e+04 1.99233540e+02 1.16067220e+02 3.80977012e+01\n",
      " 2.06015714e+01 4.61376850e-02 1.52729734e+02]\n"
     ]
    }
   ],
   "source": [
    "print(popt)"
   ]
  },
  {
   "cell_type": "code",
   "execution_count": 5,
   "metadata": {},
   "outputs": [
    {
     "name": "stdout",
     "output_type": "stream",
     "text": [
      "370 ms ± 72.6 ms per loop (mean ± std. dev. of 7 runs, 1 loop each)\n"
     ]
    }
   ],
   "source": [
    "%timeit popt_1, pcov = curve_fit(gaussian_model, (x_values, y_values), z_values_in, p0=popt, bounds=bounds)"
   ]
  },
  {
   "cell_type": "code",
   "execution_count": 6,
   "metadata": {},
   "outputs": [
    {
     "name": "stdout",
     "output_type": "stream",
     "text": [
      "149 ms ± 34.9 ms per loop (mean ± std. dev. of 7 runs, 1 loop each)\n"
     ]
    }
   ],
   "source": [
    "%timeit popt_2, pcov = curve_fit(gaussian_model, (x_values, y_values), z_values_in, p0=popt)"
   ]
  }
 ],
 "metadata": {
  "kernelspec": {
   "display_name": "Python 3.9.1 64-bit",
   "language": "python",
   "name": "python3"
  },
  "language_info": {
   "codemirror_mode": {
    "name": "ipython",
    "version": 3
   },
   "file_extension": ".py",
   "mimetype": "text/x-python",
   "name": "python",
   "nbconvert_exporter": "python",
   "pygments_lexer": "ipython3",
   "version": "3.9.1"
  },
  "orig_nbformat": 4,
  "vscode": {
   "interpreter": {
    "hash": "ca05ebcb4bdf3468867211a585c7570f551873dac6cea58139d7b17b1c6a385b"
   }
  }
 },
 "nbformat": 4,
 "nbformat_minor": 2
}
