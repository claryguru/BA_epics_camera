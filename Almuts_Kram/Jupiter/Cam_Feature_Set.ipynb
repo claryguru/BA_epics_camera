{
 "cells": [
  {
   "cell_type": "markdown",
   "metadata": {},
   "source": [
    "# Load Cam from Init Datei\n",
    "\n",
    "- test setattr method\n",
    "- test vimba example "
   ]
  },
  {
   "cell_type": "code",
   "execution_count": 1,
   "metadata": {},
   "outputs": [],
   "source": [
    "from vimba import *"
   ]
  },
  {
   "cell_type": "code",
   "execution_count": 24,
   "metadata": {},
   "outputs": [
    {
     "name": "stdout",
     "output_type": "stream",
     "text": [
      "(<vimba.camera.Camera object at 0x000001FC3631D210>,)\n",
      "EnumFeature(name=ExposureAuto, value=Continuous)\n",
      "(<vimba.camera.Camera object at 0x000001FC363BA560>,)\n",
      "EnumFeature(name=ExposureAuto, value=Continuous)\n"
     ]
    }
   ],
   "source": [
    "with Vimba.get_instance() as vimba:\n",
    "            cams = vimba.get_all_cameras()\n",
    "            print(cams)\n",
    "            if len(cams) > 0:\n",
    "                with cams[0] as cam:\n",
    "                    cam.ExposureAuto.set('Off')\n",
    "                    feat = cam.get_feature_by_name('ExposureAuto')\n",
    "                    feat.set('Continuous')\n",
    "                    print(feat)\n",
    "            else:\n",
    "                print(\"no camera detected\")\n",
    "\n",
    "\n",
    "with Vimba.get_instance() as vimba:\n",
    "            cams = vimba.get_all_cameras()\n",
    "            print(cams)\n",
    "            if len(cams) > 0:\n",
    "                with cams[0] as cam:\n",
    "                    feat = cam.get_feature_by_name('ExposureAuto')\n",
    "                    print(feat)                    \n",
    "            else:\n",
    "                print(\"no camera detected\")\n",
    "        \n",
    "        \n"
   ]
  },
  {
   "cell_type": "markdown",
   "metadata": {},
   "source": [
    "# json \n",
    "\n",
    "- load and save from/to json file "
   ]
  },
  {
   "cell_type": "code",
   "execution_count": 1,
   "metadata": {},
   "outputs": [],
   "source": [
    "import json"
   ]
  },
  {
   "cell_type": "code",
   "execution_count": 9,
   "metadata": {},
   "outputs": [],
   "source": [
    "#Save\n",
    "bsp_dict = {\"key\":\"value\"}\n",
    "with open(\"your_json_file.json\", \"w\") as fp:\n",
    "    json.dump(bsp_dict,fp)\n",
    "    fp.close()\n"
   ]
  },
  {
   "cell_type": "code",
   "execution_count": 10,
   "metadata": {},
   "outputs": [
    {
     "name": "stdout",
     "output_type": "stream",
     "text": [
      "{'key': 'value'}\n"
     ]
    }
   ],
   "source": [
    "\n",
    "with open('your_json_file.json') as json_data:\n",
    "    d = json.load(json_data)\n",
    "    json_data.close()\n",
    "print(d)\n",
    "   \n"
   ]
  }
 ],
 "metadata": {
  "kernelspec": {
   "display_name": "Python 3.9.1 64-bit",
   "language": "python",
   "name": "python3"
  },
  "language_info": {
   "codemirror_mode": {
    "name": "ipython",
    "version": 3
   },
   "file_extension": ".py",
   "mimetype": "text/x-python",
   "name": "python",
   "nbconvert_exporter": "python",
   "pygments_lexer": "ipython3",
   "version": "3.9.1"
  },
  "orig_nbformat": 4,
  "vscode": {
   "interpreter": {
    "hash": "ca05ebcb4bdf3468867211a585c7570f551873dac6cea58139d7b17b1c6a385b"
   }
  }
 },
 "nbformat": 4,
 "nbformat_minor": 2
}
