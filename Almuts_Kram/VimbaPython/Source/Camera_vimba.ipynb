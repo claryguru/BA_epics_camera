{
 "cells": [
  {
   "cell_type": "markdown",
   "metadata": {},
   "source": [
    "## Camera vimba test\n",
    "\n",
    "- how to connect Camera to Windows PC see documentation\n",
    "- this is about testing vimba lib for python "
   ]
  },
  {
   "cell_type": "markdown",
   "metadata": {},
   "source": [
    "### Installation \n",
    "Die Jupyter Datei muss im Source Ordner von vimba python liegen, damit die setup.py gefunden werden kann "
   ]
  },
  {
   "cell_type": "code",
   "execution_count": 13,
   "metadata": {},
   "outputs": [
    {
     "name": "stdout",
     "output_type": "stream",
     "text": [
      "Requirement already satisfied: pip in c:\\users\\qdf\\appdata\\local\\programs\\python\\python39\\lib\\site-packages (21.2.4)\n",
      "Collecting pip\n",
      "  Downloading pip-22.1-py3-none-any.whl (2.1 MB)\n",
      "Installing collected packages: pip\n",
      "  Attempting uninstall: pip\n",
      "    Found existing installation: pip 21.2.4\n",
      "    Uninstalling pip-21.2.4:\n",
      "      Successfully uninstalled pip-21.2.4\n",
      "Successfully installed pip-22.1\n",
      "Processing d:\\hzb\\bachelor\\git-clone\\bachelor\\vimbapython\\source\n",
      "  Preparing metadata (setup.py): started\n",
      "  Preparing metadata (setup.py): finished with status 'done'\n",
      "Building wheels for collected packages: VimbaPython\n",
      "  Building wheel for VimbaPython (setup.py): started\n",
      "  Building wheel for VimbaPython (setup.py): finished with status 'done'\n",
      "  Created wheel for VimbaPython: filename=VimbaPython-1.2.1-py3-none-any.whl size=73576 sha256=4fef942be19967146b3e430991f0d2b68b36c361210079d4ae494a1c7cc0425d\n",
      "  Stored in directory: C:\\Users\\qdf\\AppData\\Local\\Temp\\pip-ephem-wheel-cache-fkxm0bmf\\wheels\\89\\c5\\4c\\4b4f5b76efcc865ab7c9fc95b4d17e9ba9d21beee35b5f962f\n",
      "Successfully built VimbaPython\n",
      "Installing collected packages: VimbaPython\n",
      "  Attempting uninstall: VimbaPython\n",
      "    Found existing installation: VimbaPython 1.2.1\n",
      "    Uninstalling VimbaPython-1.2.1:\n",
      "      Successfully uninstalled VimbaPython-1.2.1\n",
      "Successfully installed VimbaPython-1.2.1\n",
      "Requirement already satisfied: opencv-python in c:\\users\\qdf\\appdata\\local\\programs\\python\\python39\\lib\\site-packages (4.5.5.64)\n",
      "Requirement already satisfied: numpy>=1.14.5 in c:\\users\\qdf\\appdata\\local\\programs\\python\\python39\\lib\\site-packages (from opencv-python) (1.20.2)\n"
     ]
    }
   ],
   "source": [
    "#einmalig ausführen\n",
    "#!{sys.executable} -m  pip install .\n",
    "#!{sys.executable} -m pip install opencv-python"
   ]
  },
  {
   "cell_type": "code",
   "execution_count": 14,
   "metadata": {},
   "outputs": [],
   "source": [
    "from vimba import *\n",
    "import cv2"
   ]
  },
  {
   "cell_type": "markdown",
   "metadata": {},
   "source": [
    "- Acquire a single frame\n",
    "- Convert the pixel format to Mono8\n",
    "- Store it using opencv-python"
   ]
  },
  {
   "cell_type": "code",
   "execution_count": 31,
   "metadata": {},
   "outputs": [],
   "source": [
    "#Bei Errormeldung -7, einfach nochmal Kamera turn off turn on \n",
    "with Vimba.get_instance () as vimba:\n",
    "    cams = vimba.get_all_cameras ()\n",
    "    with cams [0] as cam:\n",
    "        frame = cam.get_frame ()\n",
    "    frame.convert_pixel_format(PixelFormat.Mono8)\n",
    "    cv2.imwrite('frame.jpg', frame.as_opencv_image ())"
   ]
  },
  {
   "cell_type": "markdown",
   "metadata": {},
   "source": [
    "print all features of the first detected Interface"
   ]
  },
  {
   "cell_type": "code",
   "execution_count": 33,
   "metadata": {},
   "outputs": [
    {
     "name": "stdout",
     "output_type": "stream",
     "text": [
      "EnumFeature(name=DeviceAccessStatus)\n",
      "IntFeature(name=DeviceCount, value=0, range=(0, 4294967295), increment=1)\n",
      "StringFeature(name=DeviceDisplayName)\n",
      "StringFeature(name=DeviceDriverPath)\n",
      "StringFeature(name=DeviceID)\n",
      "StringFeature(name=DeviceLocation)\n",
      "StringFeature(name=DeviceModelName)\n",
      "IntFeature(name=DeviceSelector)\n",
      "EnumFeature(name=DeviceType)\n",
      "CommandFeature(name=DeviceUpdateList)\n",
      "StringFeature(name=DeviceVendorName)\n",
      "StringFeature(name=InterfaceDisplayName, value=Vimba USB Interface, max_length=256)\n",
      "StringFeature(name=InterfaceID, value=VimbaUSBInterface_0x0, max_length=256)\n",
      "EnumFeature(name=InterfaceType, value=USB3)\n"
     ]
    }
   ],
   "source": [
    "with Vimba.get_instance () as vimba:\n",
    "    inters = vimba.get_all_interfaces ()\n",
    "    with inters [0] as interface:\n",
    "        for feat in interface.get_all_features ():\n",
    "            print(feat)"
   ]
  }
 ],
 "metadata": {
  "interpreter": {
   "hash": "2be5faf79681da6f2a61fdfdd5405d65d042280f7fba6178067603e3a2925119"
  },
  "kernelspec": {
   "display_name": "Python 3.10.0 64-bit",
   "language": "python",
   "name": "python3"
  },
  "language_info": {
   "codemirror_mode": {
    "name": "ipython",
    "version": 3
   },
   "file_extension": ".py",
   "mimetype": "text/x-python",
   "name": "python",
   "nbconvert_exporter": "python",
   "pygments_lexer": "ipython3",
   "version": "3.9.1"
  },
  "orig_nbformat": 4
 },
 "nbformat": 4,
 "nbformat_minor": 2
}
